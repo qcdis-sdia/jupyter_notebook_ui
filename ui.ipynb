{
 "cells": [
  {
   "cell_type": "markdown",
   "metadata": {},
   "source": [
    "## Install Prerequisites"
   ]
  },
  {
   "cell_type": "code",
   "execution_count": 1,
   "metadata": {},
   "outputs": [],
   "source": [
    "import subprocess\n",
    "import sys\n",
    "import base64\n",
    "import getpass\n",
    "import requests\n",
    "import yaml\n",
    "import matplotlib\n",
    "import plotly.graph_objects as go\n",
    "import networkx as nx\n",
    "import webbrowser"
   ]
  },
  {
   "cell_type": "markdown",
   "metadata": {},
   "source": [
    "# Client Configuration"
   ]
  },
  {
   "cell_type": "code",
   "execution_count": 71,
   "metadata": {
    "jupyter": {
     "source_hidden": true
    }
   },
   "outputs": [
    {
     "data": {
      "application/vnd.jupyter.widget-view+json": {
       "model_id": "9f5bef1e49724292be0ba5c3be8f48bc",
       "version_major": 2,
       "version_minor": 0
      },
      "text/plain": [
       "VBox(children=(Text(value='https://lifewatch.lab.uvalight.net:30736/orchestrator', description='SDIA API URL:'…"
      ]
     },
     "metadata": {},
     "output_type": "display_data"
    },
    {
     "data": {
      "application/vnd.jupyter.widget-view+json": {
       "model_id": "ba7bac49ae45404ca345ebf439e76eca",
       "version_major": 2,
       "version_minor": 0
      },
      "text/plain": [
       "Output()"
      ]
     },
     "metadata": {},
     "output_type": "display_data"
    }
   ],
   "source": [
    "import ipywidgets as widgets\n",
    "from ipywidgets import interact, interactive, fixed, interact_manual\n",
    "from ipywidgets import TwoByTwoLayout\n",
    "from ipywidgets import AppLayout, Button, Layout\n",
    "\n",
    "\n",
    "sdia_conf_url_widget =  widgets.Text(\n",
    "    value='https://lifewatch.lab.uvalight.net:30736/orchestrator',\n",
    "    placeholder='Enter SDIA API endpoint. e.g. https://lifewatch.lab.uvalight.net:30736/orchestrator',\n",
    "    description='SDIA API URL:',\n",
    "    disabled=False\n",
    ")\n",
    "sdia_conf_username_widget =  widgets.Text(\n",
    "    value='notebook_user',\n",
    "    placeholder='Enter SDIA username',\n",
    "    description='SDIA username:',\n",
    "    disabled=False\n",
    ")\n",
    "\n",
    "sdia_conf_token_widget =  widgets.Password(\n",
    "    value='',\n",
    "    placeholder='Enter your SDIA token',\n",
    "    description='Password:',\n",
    "    disabled=False\n",
    ") \n",
    "\n",
    "sdia_conf_login_button = widgets.Button(\n",
    "    description='Login',\n",
    "    disabled=False,\n",
    "    button_style='', # 'success', 'info', 'warning', 'danger' or ''\n",
    "    tooltip='Run report',\n",
    "#     icon='check' # (FontAwesome names without the `fa-` prefix)\n",
    ")\n",
    "\n",
    "sdia_conf_output = widgets.Output()\n",
    "sdia_conf_box = widgets.VBox([sdia_conf_url_widget, sdia_conf_username_widget, sdia_conf_token_widget, sdia_conf_login_button])\n",
    "display(sdia_conf_box,sdia_conf_output)\n",
    "\n",
    "@output.capture()\n",
    "def sdia_conf_on_button_clicked(b):\n",
    "    sdia_conf_url = sdia_conf_url_widget.value\n",
    "#     if not sdia_token_widget.value or not sdia_username_widget.value:\n",
    "        \n",
    "\n",
    "sdia_conf_login_button.on_click(sdia_conf_on_button_clicked)\n",
    "\n",
    "\n",
    "\n"
   ]
  },
  {
   "cell_type": "markdown",
   "metadata": {},
   "source": [
    "# Application Configuration"
   ]
  },
  {
   "cell_type": "code",
   "execution_count": 96,
   "metadata": {
    "jupyter": {
     "source_hidden": true
    }
   },
   "outputs": [
    {
     "data": {
      "application/vnd.jupyter.widget-view+json": {
       "model_id": "2ebd1ad9ed294cf0b8d183ca2b0e2268",
       "version_major": 2,
       "version_minor": 0
      },
      "text/plain": [
       "VBox(children=(Dropdown(description='Application Type:', index=1, options=('Docker', 'Helm'), value='Helm'),))"
      ]
     },
     "metadata": {},
     "output_type": "display_data"
    },
    {
     "data": {
      "application/vnd.jupyter.widget-view+json": {
       "model_id": "63b044cd28f84e5ea82e6f694e64e1ad",
       "version_major": 2,
       "version_minor": 0
      },
      "text/plain": [
       "Output()"
      ]
     },
     "metadata": {},
     "output_type": "display_data"
    }
   ],
   "source": [
    "application_type_widget = widgets.Dropdown(\n",
    "    options=['Docker', 'Helm'],\n",
    "    value='Helm',\n",
    "    description='Application Type:',\n",
    "    disabled=False\n",
    ")\n",
    "\n",
    "application_type_output = widgets.Output()\n",
    "application_type_box = widgets.VBox([application_type_widget])\n",
    "display(application_type_box,application_type_output)"
   ]
  },
  {
   "cell_type": "code",
   "execution_count": 97,
   "metadata": {},
   "outputs": [
    {
     "data": {
      "application/vnd.jupyter.widget-view+json": {
       "model_id": "d3ac9e9977704870b62fff5e62bae825",
       "version_major": 2,
       "version_minor": 0
      },
      "text/plain": [
       "VBox(children=(Text(value='argo/argo', description='Chart Name:', placeholder='the chart name e.g. argo/argo')…"
      ]
     },
     "metadata": {},
     "output_type": "display_data"
    },
    {
     "data": {
      "application/vnd.jupyter.widget-view+json": {
       "model_id": "1139cb80a5be4749b6a61f92ccc7722d",
       "version_major": 2,
       "version_minor": 0
      },
      "text/plain": [
       "Output()"
      ]
     },
     "metadata": {},
     "output_type": "display_data"
    }
   ],
   "source": [
    "docker_app_image_name_widget =  widgets.Textarea(\n",
    "    value='cloudcells/classifiers',\n",
    "    placeholder='image name e.g. cloudcells/classifiers',\n",
    "    description='Docker Image Name:',\n",
    "    disabled=False\n",
    ")\n",
    "\n",
    "docker_app_image_ports_widget =  widgets.Textarea(\n",
    "    value='',\n",
    "    placeholder='the ports to expose e.g. 80',\n",
    "    description='Ports:',\n",
    "    disabled=False\n",
    ")\n",
    "\n",
    "enebale_monotoring_widget= widgets.Checkbox(\n",
    "    value=True,\n",
    "    description='Monotoring',\n",
    "    disabled=False\n",
    ")\n",
    "\n",
    "docker_app_box = widgets.VBox([docker_app_image_name_widget, docker_app_image_ports_widget,enebale_monotoring_widget])\n",
    "\n",
    "                    \n",
    "helm_app_chart_name_widget =  widgets.Text(\n",
    "    value='argo/argo',\n",
    "    placeholder='the chart name e.g. argo/argo',\n",
    "    description='Chart Name:',\n",
    "    disabled=False\n",
    ")\n",
    "\n",
    "\n",
    "helm_app_repo_name_widget =  widgets.Text(\n",
    "    value='argo',\n",
    "    placeholder='the name of the repoitory name',\n",
    "    description='Reposetory Name:',\n",
    "    disabled=False\n",
    ")\n",
    "\n",
    "helm_app_repo_url_widget =  widgets.Text(\n",
    "    value='https://argoproj.github.io/argo-helm',\n",
    "    placeholder='the url',\n",
    "    description='Reposetory URL:',\n",
    "    disabled=False\n",
    ")\n",
    "\n",
    "helm_app_box = widgets.VBox([helm_app_chart_name_widget, helm_app_repo_name_widget,helm_app_repo_url_widget,enebale_monotoring_widget])\n",
    "\n",
    "app_conf_output = widgets.Output()\n",
    "\n",
    "if application_type_widget.value == 'Docker':\n",
    "    display(docker_app_box,docker_app_output)\n",
    "elif application_type_widget.value == 'Helm':\n",
    "    display(helm_app_box,docker_app_output)\n"
   ]
  },
  {
   "cell_type": "markdown",
   "metadata": {},
   "source": [
    "# Infrastructure Configuration"
   ]
  },
  {
   "cell_type": "markdown",
   "metadata": {},
   "source": [
    "## Number of Topologies\n",
    "A topology is a set of VMs that will be provisined in the same location by the same provider."
   ]
  },
  {
   "cell_type": "code",
   "execution_count": 77,
   "metadata": {
    "jupyter": {
     "source_hidden": true
    }
   },
   "outputs": [
    {
     "data": {
      "application/vnd.jupyter.widget-view+json": {
       "model_id": "541da16025534027b7775981bef37813",
       "version_major": 2,
       "version_minor": 0
      },
      "text/plain": [
       "VBox(children=(BoundedIntText(value=1, description='Num. Of Topologies:', max=4, min=1),))"
      ]
     },
     "metadata": {},
     "output_type": "display_data"
    },
    {
     "data": {
      "application/vnd.jupyter.widget-view+json": {
       "model_id": "ad59903722694ec0b6b3e444070cce01",
       "version_major": 2,
       "version_minor": 0
      },
      "text/plain": [
       "Output()"
      ]
     },
     "metadata": {},
     "output_type": "display_data"
    }
   ],
   "source": [
    "num_of_topologies_widget= widgets.BoundedIntText(\n",
    "    value=1,\n",
    "    min=1,\n",
    "    max=4,\n",
    "    step=1,\n",
    "    description='Num. Of Topologies:',\n",
    "    disabled=False\n",
    ")\n",
    "\n",
    "\n",
    "topologies_output = widgets.Output()\n",
    "number_of_topology_box = widgets.VBox([num_of_topologies_widget])\n",
    "display(number_of_topology_box,topologies_output)\n"
   ]
  },
  {
   "cell_type": "code",
   "execution_count": 142,
   "metadata": {},
   "outputs": [
    {
     "data": {
      "application/vnd.jupyter.widget-view+json": {
       "model_id": "4d062291f22d4caa9e180652cad67408",
       "version_major": 2,
       "version_minor": 0
      },
      "text/plain": [
       "VBox(children=(Tab(children=(VBox(children=(Dropdown(description='Cloud Provider:', index=1, options=('EC2', '…"
      ]
     },
     "metadata": {},
     "output_type": "display_data"
    },
    {
     "data": {
      "application/vnd.jupyter.widget-view+json": {
       "model_id": "64433c0da49d4360b9c0d48dbe254df0",
       "version_major": 2,
       "version_minor": 0
      },
      "text/plain": [
       "Output()"
      ]
     },
     "metadata": {},
     "output_type": "display_data"
    }
   ],
   "source": [
    "topologies_boxes = []\n",
    "for i in range(0, num_of_topologies_widget.value):\n",
    "    cloud_provider_name_widget = widgets.Dropdown(\n",
    "        options=['EC2', 'Azure'],\n",
    "        value='Azure',\n",
    "        description='Cloud Provider:',\n",
    "        name='cloud_provider_name',infrastructure\n",
    "        disabled=False\n",
    "    )\n",
    "    \n",
    "    num_of_vms_widget= widgets.BoundedIntText(\n",
    "        value=2,\n",
    "        min=1,\n",
    "        max=4,\n",
    "        step=1,\n",
    "        description='Num. Of VMs:',\n",
    "        disabled=False\n",
    "    )\n",
    "    vm_size_name_widget = widgets.Dropdown(\n",
    "        options=['small', 'medium','large'],\n",
    "        value='medium',\n",
    "        description='VM size:',\n",
    "        disabled=False\n",
    "    )\n",
    "    topology_region_widget = widgets.Dropdown(\n",
    "        options=['East US','Central US','South Central US','West US','Australia East','Southeast Asia','UK South','West Europe','North Europe','South Africa North','Central India'],\n",
    "        value='West Europe',\n",
    "        description='Topology Region:',\n",
    "        disabled=False\n",
    "    )\n",
    "    topology_box = widgets.VBox([cloud_provider_name_widget, num_of_vms_widget, vm_size_name_widget,topology_region_widget])\n",
    "    topologies_boxes.append(topology_box)\n",
    "\n",
    "    \n",
    "    \n",
    "topologies_conf_tab = widgets.Tab()\n",
    "topologies_conf_tab.children = children\n",
    "for i in range(len(topologies_boxes)):\n",
    "    topologies_conf_tab.set_title(i, 'topology_'+str(i+1))\n",
    "    \n",
    "    \n",
    "topologies_conf_output = widgets.Output()\n",
    "topologies_conf_tab_box = widgets.VBox([topologies_conf_tab])\n",
    "display(topologies_conf_tab_box,topologies_conf_output)"
   ]
  },
  {
   "cell_type": "markdown",
   "metadata": {},
   "source": [
    "## Generate TOSCA"
   ]
  },
  {
   "cell_type": "code",
   "execution_count": 156,
   "metadata": {
    "scrolled": true
   },
   "outputs": [
    {
     "name": "stdout",
     "output_type": "stream",
     "text": [
      "Application\n",
      "Application Type: Helm\n",
      "Chart name: argo/argo\n",
      "Reposetory name: argo\n",
      "Reposetory URL: https://argoproj.github.io/argo-helm\n",
      "\n",
      "Infrastructure\n",
      "Cloud Provider::Azure\n",
      "Num. Of VMs::2\n",
      "VM size::medium\n",
      "Topology Region::West Europe\n",
      "-----\n",
      "Cloud Provider::Azure\n",
      "Num. Of VMs::2\n",
      "VM size::medium\n",
      "Topology Region::West Europe\n",
      "-----\n",
      "\n"
     ]
    },
    {
     "ename": "NameError",
     "evalue": "name 'node_templates' is not defined",
     "output_type": "error",
     "traceback": [
      "\u001b[0;31m---------------------------------------------------------------------------\u001b[0m",
      "\u001b[0;31mNameError\u001b[0m                                 Traceback (most recent call last)",
      "\u001b[0;32m<ipython-input-156-04f69460910d>\u001b[0m in \u001b[0;36m<module>\u001b[0;34m\u001b[0m\n\u001b[1;32m     27\u001b[0m \u001b[0;34m\u001b[0m\u001b[0m\n\u001b[1;32m     28\u001b[0m \u001b[0;34m\u001b[0m\u001b[0m\n\u001b[0;32m---> 29\u001b[0;31m \u001b[0mtopology_template\u001b[0m\u001b[0;34m[\u001b[0m\u001b[0;34m'node_templates'\u001b[0m\u001b[0;34m]\u001b[0m \u001b[0;34m=\u001b[0m \u001b[0mnode_templates\u001b[0m\u001b[0;34m\u001b[0m\u001b[0;34m\u001b[0m\u001b[0m\n\u001b[0m\u001b[1;32m     30\u001b[0m \u001b[0mtosca\u001b[0m \u001b[0;34m=\u001b[0m \u001b[0;34m{\u001b[0m\u001b[0;34m}\u001b[0m\u001b[0;34m\u001b[0m\u001b[0;34m\u001b[0m\u001b[0m\n\u001b[1;32m     31\u001b[0m \u001b[0mtosca\u001b[0m\u001b[0;34m[\u001b[0m\u001b[0;34m'tosca_definitions_version'\u001b[0m\u001b[0;34m]\u001b[0m \u001b[0;34m=\u001b[0m \u001b[0;34m'tosca_simple_yaml_1_2'\u001b[0m\u001b[0;34m\u001b[0m\u001b[0;34m\u001b[0m\u001b[0m\n",
      "\u001b[0;31mNameError\u001b[0m: name 'node_templates' is not defined"
     ]
    }
   ],
   "source": [
    "node_templates={}\n",
    "app_prop = []\n",
    "if application_type_widget.value == 'Docker':\n",
    "    app_prop.append('Image Name: '+docker_app_image_name_widget.value)\n",
    "    app_prop.append('Ports: '+docker_app_image_ports_widget.value)\n",
    "elif application_type_widget.value == 'Helm':\n",
    "    app_prop.append('Application Type: '+application_type_widget.value)\n",
    "    app_prop.append('Chart name: '+helm_app_chart_name_widget.value)\n",
    "    app_prop.append('Reposetory name: '+helm_app_repo_name_widget.value)\n",
    "    app_prop.append('Reposetory URL: '+helm_app_repo_url_widget.value)\n",
    "\n",
    "text = 'Application\\n'\n",
    "for line in app_prop:\n",
    "    text += line+'\\n'\n",
    "    \n",
    "    \n",
    "text += '\\nInfrastructure\\n'\n",
    "\n",
    "\n",
    "for topology in topologies_boxes:\n",
    "    for child in topology.children:\n",
    "        text+=child.description+':'+str(child.value)+'\\n'\n",
    "    \n",
    "    text+='-----\\n'\n",
    "\n",
    "print(text)\n",
    "\n",
    "\n",
    "\n",
    "topology_template['node_templates'] = node_templates\n",
    "tosca = {}\n",
    "tosca['tosca_definitions_version'] = 'tosca_simple_yaml_1_2'\n",
    "imports=[{'nodes':'https://raw.githubusercontent.com/qcdis-sdia/sdia-tosca/master/types/nodes.yaml','data':'https://raw.githubusercontent.com/qcdis-sdia/sdia-tosca/master/types/data.yml','capabilities':'https://raw.githubusercontent.com/qcdis-sdia/sdia-tosca/master/types/capabilities.yaml','policies':'https://raw.githubusercontent.com/qcdis-sdia/sdia-tosca/master/types/policies.yaml','interfaces':'https://raw.githubusercontent.com/qcdis-sdia/sdia-tosca/master/types/interfaces.yml'}]\n",
    "tosca['imports'] = imports\n",
    "repositories = {'docker_hub':'https://hub.docker.com/'}\n",
    "tosca['repositories'] = repositories\n",
    "tosca['topology_template'] = topology_template\n"
   ]
  },
  {
   "cell_type": "markdown",
   "metadata": {},
   "source": [
    "## Show Topology"
   ]
  },
  {
   "cell_type": "code",
   "execution_count": null,
   "metadata": {},
   "outputs": [],
   "source": [
    "\n",
    "\n",
    "\n",
    "def build_graph(node_templates):\n",
    "    graph = nx.DiGraph()\n",
    "    for node_name in node_templates:\n",
    "        graph.add_node(node_name, attr_dict=node_templates[node_name])\n",
    "        if 'requirements' in node_templates[node_name]:\n",
    "            for req in node_templates[node_name]['requirements']:\n",
    "                req_name = next(iter(req))\n",
    "                req_node_name = req[req_name]['node']\n",
    "                if 'relationship' in req[req_name] and 'type' in req[req_name]['relationship']:\n",
    "                    relationship_type = req[req_name]['relationship']['type']\n",
    "                else:\n",
    "                    if 'relationship' not in req[req_name]:\n",
    "                        relationship_type = 'tosca.relationships.DependsOn'\n",
    "                    else:\n",
    "                        relationship_type = req[req_name]['relationship']\n",
    "                graph.add_edge(node_name, req_node_name, relationship=relationship_type)\n",
    "\n",
    "    # nx.draw(graph, with_labels=True)\n",
    "    # plt.savefig(\"/tmp/graph.png\")\n",
    "    # plt.show()\n",
    "    return graph\n",
    "\n",
    "def get_tosca(tosca_id):\n",
    "    path = \"/tosca_template/\"+tosca_id\n",
    "    payload = {}\n",
    "    headers= {'accept':'text/plain'}\n",
    "    response = requests.request(\"GET\", base_url+path, headers=headers, data = payload,verify=False, auth=(username, password))\n",
    "    return response.text\n",
    "\n",
    "tosca = get_tosca(tosca_id)\n",
    "tosca_dict = yaml.safe_load(tosca)\n",
    "graph = build_graph(tosca_dict['topology_template']['node_templates'])\n",
    "nx.draw(graph, with_labels=True)\n"
   ]
  },
  {
   "cell_type": "markdown",
   "metadata": {},
   "source": [
    "## Make Plan"
   ]
  },
  {
   "cell_type": "code",
   "execution_count": null,
   "metadata": {},
   "outputs": [],
   "source": [
    "path = \"/planner/plan/\"+tosca_id\n",
    "payload = {}\n",
    "headers= {'accept':'text/plain'}\n",
    "\n",
    "response = requests.request(\"GET\", base_url+path, headers=headers, data = payload,verify=False, auth=(username, password))\n",
    "planed_tosca_id = response.text"
   ]
  },
  {
   "cell_type": "code",
   "execution_count": null,
   "metadata": {},
   "outputs": [],
   "source": [
    "tosca = get_tosca(planed_tosca_id)\n",
    "\n",
    "tosca_dict = yaml.safe_load(tosca)\n",
    "graph = build_graph(tosca_dict['topology_template']['node_templates'])\n",
    "nx.draw(graph, with_labels=True)\n",
    "\n",
    "for node_name in tosca_dict['topology_template']['node_templates']:\n",
    "    if 'properties' in tosca_dict['topology_template']['node_templates'][node_name]:\n",
    "        print(node_name+': '+str(tosca_dict['topology_template']['node_templates'][node_name]['properties']))\n",
    "        print('---------------------------------------------------------------------------------------------------------------------')\n",
    "        \n",
    "        "
   ]
  },
  {
   "cell_type": "markdown",
   "metadata": {},
   "source": [
    "## Provision Plan"
   ]
  },
  {
   "cell_type": "code",
   "execution_count": null,
   "metadata": {},
   "outputs": [],
   "source": [
    "path = \"/provisioner/provision/\"+planed_tosca_id\n",
    "payload = {}\n",
    "headers= {'accept':'text/plain'}\n",
    "\n",
    "response = requests.request(\"GET\", base_url+path, headers=headers, data = payload,verify=False, auth=(username, password))\n",
    "provisioned_tosca_id = response.text"
   ]
  },
  {
   "cell_type": "code",
   "execution_count": null,
   "metadata": {},
   "outputs": [],
   "source": [
    "tosca = get_tosca(provisioned_tosca_id)\n",
    "\n",
    "tosca_dict = yaml.safe_load(tosca)\n",
    "graph = build_graph(tosca_dict['topology_template']['node_templates'])\n",
    "nx.draw(graph, with_labels=True)\n",
    "\n",
    "\n",
    "for node_name in tosca_dict['topology_template']['node_templates']:\n",
    "    if tosca_dict['topology_template']['node_templates'][node_name]['type'] == 'tosca.nodes.QC.VM.Compute':\n",
    "        print(node_name+': '+tosca_dict['topology_template']['node_templates'][node_name]['attributes']['public_ip'])"
   ]
  },
  {
   "cell_type": "markdown",
   "metadata": {},
   "source": [
    "## Deploy K8s And WS"
   ]
  },
  {
   "cell_type": "code",
   "execution_count": null,
   "metadata": {},
   "outputs": [],
   "source": [
    "path = \"/deployer/deploy/\"+provisioned_tosca_id\n",
    "payload = {}\n",
    "headers= {'accept':'text/plain'}\n",
    "\n",
    "response = requests.request(\"GET\", base_url+path, headers=headers, data = payload, verify=False, auth=(username, password))\n",
    "deployed_tosca_id = response.text"
   ]
  },
  {
   "cell_type": "code",
   "execution_count": null,
   "metadata": {},
   "outputs": [],
   "source": [
    "tosca = get_tosca(deployed_tosca_id)\n",
    "\n",
    "tosca_dict = yaml.safe_load(tosca)\n",
    "graph = build_graph(tosca_dict['topology_template']['node_templates'])\n",
    "nx.draw(graph, with_labels=True)\n",
    "\n",
    "for node_name in tosca_dict['topology_template']['node_templates']:\n",
    "    if tosca_dict['topology_template']['node_templates'][node_name]['type'] == 'tosca.nodes.QC.docker.Orchestrator.Kubernetes':\n",
    "        for token in tosca_dict['topology_template']['node_templates'][node_name]['attributes']['tokens']:\n",
    "            if token['user'] == 'dashboard_token':\n",
    "                print(node_name+': '+' dashboard_token: '+token['token'])\n",
    "        print(node_name+': '+str(tosca_dict['topology_template']['node_templates'][node_name]['attributes']['dashboard_url']))\n",
    "    if tosca_dict['topology_template']['node_templates'][node_name]['type'] == 'tosca.nodes.QC.Container.Application.Docker':\n",
    "        print(node_name+': '+str(tosca_dict['topology_template']['node_templates'][node_name]['attributes']['service_url']))\n",
    "        "
   ]
  },
  {
   "cell_type": "code",
   "execution_count": null,
   "metadata": {},
   "outputs": [],
   "source": []
  }
 ],
 "metadata": {
  "kernelspec": {
   "display_name": "Python 3",
   "language": "python",
   "name": "python3"
  },
  "language_info": {
   "codemirror_mode": {
    "name": "ipython",
    "version": 3
   },
   "file_extension": ".py",
   "mimetype": "text/x-python",
   "name": "python",
   "nbconvert_exporter": "python",
   "pygments_lexer": "ipython3",
   "version": "3.8.6"
  }
 },
 "nbformat": 4,
 "nbformat_minor": 4
}
