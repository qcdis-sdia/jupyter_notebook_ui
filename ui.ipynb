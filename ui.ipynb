{
 "cells": [
  {
   "cell_type": "markdown",
   "metadata": {},
   "source": [
    "## Install Prerequisites"
   ]
  },
  {
   "cell_type": "code",
   "execution_count": 1,
   "metadata": {},
   "outputs": [
    {
     "name": "stdout",
     "output_type": "stream",
     "text": [
      "Requirement already satisfied: pip in /opt/conda/lib/python3.8/site-packages (20.3.1)\n",
      "Collecting pip\n",
      "  Downloading pip-21.1.3-py3-none-any.whl (1.5 MB)\n",
      "\u001b[K     |████████████████████████████████| 1.5 MB 1.1 MB/s eta 0:00:01\n",
      "\u001b[?25hInstalling collected packages: pip\n",
      "  Attempting uninstall: pip\n",
      "    Found existing installation: pip 20.3.1\n",
      "    Uninstalling pip-20.3.1:\n",
      "      Successfully uninstalled pip-20.3.1\n",
      "Successfully installed pip-21.1.3\n",
      "Collecting ipywidgets\n",
      "  Downloading ipywidgets-7.6.3-py2.py3-none-any.whl (121 kB)\n",
      "\u001b[K     |████████████████████████████████| 121 kB 637 kB/s eta 0:00:01\n",
      "\u001b[?25hCollecting pyyaml\n",
      "  Downloading PyYAML-5.4.1-cp38-cp38-manylinux1_x86_64.whl (662 kB)\n",
      "\u001b[K     |████████████████████████████████| 662 kB 541 kB/s eta 0:00:01\n",
      "\u001b[?25hCollecting plotly\n",
      "  Downloading plotly-5.1.0-py2.py3-none-any.whl (20.6 MB)\n",
      "\u001b[K     |████████████████████████████████| 20.6 MB 1.2 MB/s eta 0:00:01    |██████████████▊                 | 9.5 MB 549 kB/s eta 0:00:21\n",
      "\u001b[?25hCollecting networkx\n",
      "  Downloading networkx-2.6.1-py3-none-any.whl (1.9 MB)\n",
      "\u001b[K     |████████████████████████████████| 1.9 MB 768 kB/s eta 0:00:01\n",
      "\u001b[?25hCollecting matplotlib\n",
      "  Downloading matplotlib-3.4.2-cp38-cp38-manylinux1_x86_64.whl (10.3 MB)\n",
      "\u001b[K     |████████████████████████████████| 10.3 MB 834 kB/s eta 0:00:01\n",
      "\u001b[?25hCollecting scipy\n",
      "  Downloading scipy-1.7.0-cp38-cp38-manylinux_2_5_x86_64.manylinux1_x86_64.whl (28.4 MB)\n",
      "\u001b[K     |████████████████████████████████| 28.4 MB 1.1 MB/s eta 0:00:01     |█████████████▍                  | 11.8 MB 295 kB/s eta 0:00:56\n",
      "\u001b[?25hCollecting widgetsnbextension~=3.5.0\n",
      "  Downloading widgetsnbextension-3.5.1-py2.py3-none-any.whl (2.2 MB)\n",
      "\u001b[K     |████████████████████████████████| 2.2 MB 952 kB/s eta 0:00:01\n",
      "\u001b[?25hRequirement already satisfied: nbformat>=4.2.0 in /opt/conda/lib/python3.8/site-packages (from ipywidgets) (5.0.8)\n",
      "Requirement already satisfied: ipykernel>=4.5.1 in /opt/conda/lib/python3.8/site-packages (from ipywidgets) (5.3.4)\n",
      "Collecting jupyterlab-widgets>=1.0.0\n",
      "  Downloading jupyterlab_widgets-1.0.0-py3-none-any.whl (243 kB)\n",
      "\u001b[K     |████████████████████████████████| 243 kB 959 kB/s eta 0:00:01\n",
      "\u001b[?25hRequirement already satisfied: traitlets>=4.3.1 in /opt/conda/lib/python3.8/site-packages (from ipywidgets) (5.0.5)\n",
      "Requirement already satisfied: ipython>=4.0.0 in /opt/conda/lib/python3.8/site-packages (from ipywidgets) (7.19.0)\n",
      "Requirement already satisfied: jupyter-client in /opt/conda/lib/python3.8/site-packages (from ipykernel>=4.5.1->ipywidgets) (6.1.7)\n",
      "Requirement already satisfied: tornado>=4.2 in /opt/conda/lib/python3.8/site-packages (from ipykernel>=4.5.1->ipywidgets) (6.1)\n",
      "Requirement already satisfied: pickleshare in /opt/conda/lib/python3.8/site-packages (from ipython>=4.0.0->ipywidgets) (0.7.5)\n",
      "Requirement already satisfied: pygments in /opt/conda/lib/python3.8/site-packages (from ipython>=4.0.0->ipywidgets) (2.7.2)\n",
      "Requirement already satisfied: setuptools>=18.5 in /opt/conda/lib/python3.8/site-packages (from ipython>=4.0.0->ipywidgets) (49.6.0.post20201009)\n",
      "Requirement already satisfied: jedi>=0.10 in /opt/conda/lib/python3.8/site-packages (from ipython>=4.0.0->ipywidgets) (0.17.2)\n",
      "Requirement already satisfied: backcall in /opt/conda/lib/python3.8/site-packages (from ipython>=4.0.0->ipywidgets) (0.2.0)\n",
      "Requirement already satisfied: pexpect>4.3 in /opt/conda/lib/python3.8/site-packages (from ipython>=4.0.0->ipywidgets) (4.8.0)\n",
      "Requirement already satisfied: prompt-toolkit!=3.0.0,!=3.0.1,<3.1.0,>=2.0.0 in /opt/conda/lib/python3.8/site-packages (from ipython>=4.0.0->ipywidgets) (3.0.8)\n",
      "Requirement already satisfied: decorator in /opt/conda/lib/python3.8/site-packages (from ipython>=4.0.0->ipywidgets) (4.4.2)\n",
      "Requirement already satisfied: parso<0.8.0,>=0.7.0 in /opt/conda/lib/python3.8/site-packages (from jedi>=0.10->ipython>=4.0.0->ipywidgets) (0.7.1)\n",
      "Requirement already satisfied: jupyter-core in /opt/conda/lib/python3.8/site-packages (from nbformat>=4.2.0->ipywidgets) (4.7.0)\n",
      "Requirement already satisfied: ipython-genutils in /opt/conda/lib/python3.8/site-packages (from nbformat>=4.2.0->ipywidgets) (0.2.0)\n",
      "Requirement already satisfied: jsonschema!=2.5.0,>=2.4 in /opt/conda/lib/python3.8/site-packages (from nbformat>=4.2.0->ipywidgets) (3.2.0)\n",
      "Requirement already satisfied: attrs>=17.4.0 in /opt/conda/lib/python3.8/site-packages (from jsonschema!=2.5.0,>=2.4->nbformat>=4.2.0->ipywidgets) (20.3.0)\n",
      "Requirement already satisfied: six>=1.11.0 in /opt/conda/lib/python3.8/site-packages (from jsonschema!=2.5.0,>=2.4->nbformat>=4.2.0->ipywidgets) (1.15.0)\n",
      "Requirement already satisfied: pyrsistent>=0.14.0 in /opt/conda/lib/python3.8/site-packages (from jsonschema!=2.5.0,>=2.4->nbformat>=4.2.0->ipywidgets) (0.17.3)\n",
      "Requirement already satisfied: ptyprocess>=0.5 in /opt/conda/lib/python3.8/site-packages (from pexpect>4.3->ipython>=4.0.0->ipywidgets) (0.6.0)\n",
      "Requirement already satisfied: wcwidth in /opt/conda/lib/python3.8/site-packages (from prompt-toolkit!=3.0.0,!=3.0.1,<3.1.0,>=2.0.0->ipython>=4.0.0->ipywidgets) (0.2.5)\n",
      "Requirement already satisfied: notebook>=4.4.1 in /opt/conda/lib/python3.8/site-packages (from widgetsnbextension~=3.5.0->ipywidgets) (6.1.5)\n",
      "Requirement already satisfied: nbconvert in /opt/conda/lib/python3.8/site-packages (from notebook>=4.4.1->widgetsnbextension~=3.5.0->ipywidgets) (6.0.7)\n",
      "Requirement already satisfied: terminado>=0.8.3 in /opt/conda/lib/python3.8/site-packages (from notebook>=4.4.1->widgetsnbextension~=3.5.0->ipywidgets) (0.9.1)\n",
      "Requirement already satisfied: argon2-cffi in /opt/conda/lib/python3.8/site-packages (from notebook>=4.4.1->widgetsnbextension~=3.5.0->ipywidgets) (20.1.0)\n",
      "Requirement already satisfied: pyzmq>=17 in /opt/conda/lib/python3.8/site-packages (from notebook>=4.4.1->widgetsnbextension~=3.5.0->ipywidgets) (20.0.0)\n",
      "Requirement already satisfied: prometheus-client in /opt/conda/lib/python3.8/site-packages (from notebook>=4.4.1->widgetsnbextension~=3.5.0->ipywidgets) (0.9.0)\n",
      "Requirement already satisfied: Send2Trash in /opt/conda/lib/python3.8/site-packages (from notebook>=4.4.1->widgetsnbextension~=3.5.0->ipywidgets) (1.5.0)\n",
      "Requirement already satisfied: jinja2 in /opt/conda/lib/python3.8/site-packages (from notebook>=4.4.1->widgetsnbextension~=3.5.0->ipywidgets) (2.11.2)\n",
      "Requirement already satisfied: python-dateutil>=2.1 in /opt/conda/lib/python3.8/site-packages (from jupyter-client->ipykernel>=4.5.1->ipywidgets) (2.8.1)\n",
      "Collecting tenacity>=6.2.0\n",
      "  Downloading tenacity-8.0.0-py3-none-any.whl (22 kB)\n",
      "Collecting pandas>=1.1\n",
      "  Downloading pandas-1.3.0-cp38-cp38-manylinux_2_5_x86_64.manylinux1_x86_64.whl (10.6 MB)\n",
      "\u001b[K     |████████████████████████████████| 10.6 MB 594 kB/s eta 0:00:01\n",
      "\u001b[?25hCollecting numpy>=1.19\n",
      "  Downloading numpy-1.21.0-cp38-cp38-manylinux_2_12_x86_64.manylinux2010_x86_64.whl (15.7 MB)\n",
      "\u001b[K     |████████████████████████████████| 15.7 MB 494 kB/s eta 0:00:01     |██████████████████████████████▍ | 14.9 MB 391 kB/s eta 0:00:03\n",
      "\u001b[?25hCollecting cycler>=0.10\n",
      "  Downloading cycler-0.10.0-py2.py3-none-any.whl (6.5 kB)\n",
      "Collecting kiwisolver>=1.0.1\n",
      "  Downloading kiwisolver-1.3.1-cp38-cp38-manylinux1_x86_64.whl (1.2 MB)\n",
      "\u001b[K     |████████████████████████████████| 1.2 MB 937 kB/s eta 0:00:01\n",
      "\u001b[?25hCollecting pillow>=6.2.0\n",
      "  Downloading Pillow-8.3.1-cp38-cp38-manylinux_2_5_x86_64.manylinux1_x86_64.whl (3.0 MB)\n",
      "\u001b[K     |████████████████████████████████| 3.0 MB 1.0 MB/s eta 0:00:01\n",
      "\u001b[?25hRequirement already satisfied: pyparsing>=2.2.1 in /opt/conda/lib/python3.8/site-packages (from matplotlib) (2.4.7)\n",
      "Collecting pytz>=2017.3\n",
      "  Downloading pytz-2021.1-py2.py3-none-any.whl (510 kB)\n",
      "\u001b[K     |████████████████████████████████| 510 kB 1.5 MB/s eta 0:00:01\n",
      "\u001b[?25hRequirement already satisfied: cffi>=1.0.0 in /opt/conda/lib/python3.8/site-packages (from argon2-cffi->notebook>=4.4.1->widgetsnbextension~=3.5.0->ipywidgets) (1.14.4)\n",
      "Requirement already satisfied: pycparser in /opt/conda/lib/python3.8/site-packages (from cffi>=1.0.0->argon2-cffi->notebook>=4.4.1->widgetsnbextension~=3.5.0->ipywidgets) (2.20)\n",
      "Requirement already satisfied: MarkupSafe>=0.23 in /opt/conda/lib/python3.8/site-packages (from jinja2->notebook>=4.4.1->widgetsnbextension~=3.5.0->ipywidgets) (1.1.1)\n",
      "Requirement already satisfied: bleach in /opt/conda/lib/python3.8/site-packages (from nbconvert->notebook>=4.4.1->widgetsnbextension~=3.5.0->ipywidgets) (3.2.1)\n",
      "Requirement already satisfied: jupyterlab-pygments in /opt/conda/lib/python3.8/site-packages (from nbconvert->notebook>=4.4.1->widgetsnbextension~=3.5.0->ipywidgets) (0.1.2)\n",
      "Requirement already satisfied: pandocfilters>=1.4.1 in /opt/conda/lib/python3.8/site-packages (from nbconvert->notebook>=4.4.1->widgetsnbextension~=3.5.0->ipywidgets) (1.4.2)\n",
      "Requirement already satisfied: nbclient<0.6.0,>=0.5.0 in /opt/conda/lib/python3.8/site-packages (from nbconvert->notebook>=4.4.1->widgetsnbextension~=3.5.0->ipywidgets) (0.5.1)\n",
      "Requirement already satisfied: testpath in /opt/conda/lib/python3.8/site-packages (from nbconvert->notebook>=4.4.1->widgetsnbextension~=3.5.0->ipywidgets) (0.4.4)\n",
      "Requirement already satisfied: mistune<2,>=0.8.1 in /opt/conda/lib/python3.8/site-packages (from nbconvert->notebook>=4.4.1->widgetsnbextension~=3.5.0->ipywidgets) (0.8.4)\n",
      "Requirement already satisfied: entrypoints>=0.2.2 in /opt/conda/lib/python3.8/site-packages (from nbconvert->notebook>=4.4.1->widgetsnbextension~=3.5.0->ipywidgets) (0.3)\n",
      "Requirement already satisfied: defusedxml in /opt/conda/lib/python3.8/site-packages (from nbconvert->notebook>=4.4.1->widgetsnbextension~=3.5.0->ipywidgets) (0.6.0)\n",
      "Requirement already satisfied: nest-asyncio in /opt/conda/lib/python3.8/site-packages (from nbclient<0.6.0,>=0.5.0->nbconvert->notebook>=4.4.1->widgetsnbextension~=3.5.0->ipywidgets) (1.4.3)\n",
      "Requirement already satisfied: async-generator in /opt/conda/lib/python3.8/site-packages (from nbclient<0.6.0,>=0.5.0->nbconvert->notebook>=4.4.1->widgetsnbextension~=3.5.0->ipywidgets) (1.10)\n",
      "Requirement already satisfied: packaging in /opt/conda/lib/python3.8/site-packages (from bleach->nbconvert->notebook>=4.4.1->widgetsnbextension~=3.5.0->ipywidgets) (20.4)\n",
      "Requirement already satisfied: webencodings in /opt/conda/lib/python3.8/site-packages (from bleach->nbconvert->notebook>=4.4.1->widgetsnbextension~=3.5.0->ipywidgets) (0.5.1)\n",
      "Installing collected packages: pytz, pillow, numpy, kiwisolver, cycler, widgetsnbextension, tenacity, scipy, pandas, matplotlib, jupyterlab-widgets, pyyaml, plotly, networkx, ipywidgets\n",
      "Successfully installed cycler-0.10.0 ipywidgets-7.6.3 jupyterlab-widgets-1.0.0 kiwisolver-1.3.1 matplotlib-3.4.2 networkx-2.6.1 numpy-1.21.0 pandas-1.3.0 pillow-8.3.1 plotly-5.1.0 pytz-2021.1 pyyaml-5.4.1 scipy-1.7.0 tenacity-8.0.0 widgetsnbextension-3.5.1\n",
      "Enabling notebook extension jupyter-js-widgets/extension...\n",
      "      - Validating: \u001b[32mOK\u001b[0m\n",
      "Building jupyterlab assets (build:prod:minimize)\n",
      "[LabBuildApp] JupyterLab 2.2.9\n",
      "[LabBuildApp] Building in /opt/conda/share/jupyter/lab\n",
      "[LabBuildApp] Building jupyterlab assets (build:prod:minimize)\n"
     ]
    }
   ],
   "source": [
    "!pip install --upgrade pip\n",
    "!pip install ipywidgets pyyaml plotly networkx networkx matplotlib scipy\n",
    "!jupyter nbextension enable --py widgetsnbextension\n",
    "!jupyter labextension install @jupyter-widgets/jupyterlab-manager\n",
    "!jupyter lab build"
   ]
  },
  {
   "cell_type": "code",
   "execution_count": 2,
   "metadata": {},
   "outputs": [],
   "source": [
    "import subprocess\n",
    "import sys\n",
    "import base64\n",
    "import getpass\n",
    "import requests\n",
    "import yaml\n",
    "import matplotlib\n",
    "import plotly.graph_objects as go\n",
    "import networkx as nx\n",
    "import webbrowser"
   ]
  },
  {
   "cell_type": "markdown",
   "metadata": {},
   "source": [
    "To be able to show the whigets run:\n",
    "```\n",
    "pip install --upgrade pip\n",
    "pip install ipywidgets ipywidgets pyyaml plotly networkx networkx\n",
    "!jupyter nbextension enable --py widgetsnbextension\n",
    "jupyter nbextension enable --py widgetsnbextension\n",
    "jupyter labextension install @jupyter-widgets/jupyterlab-manager\n",
    "jupyter lab build\n",
    "```\n",
    "Close the Jupyter lab window and open it again "
   ]
  },
  {
   "cell_type": "markdown",
   "metadata": {},
   "source": [
    "# Client Configuration"
   ]
  },
  {
   "cell_type": "code",
   "execution_count": 3,
   "metadata": {},
   "outputs": [
    {
     "data": {
      "application/vnd.jupyter.widget-view+json": {
       "model_id": "c242e35f7f2246fd8ba074ee58007196",
       "version_major": 2,
       "version_minor": 0
      },
      "text/plain": [
       "VBox(children=(Text(value='https://lifewatch.lab.uvalight.net:30003/orchestrator', description='SDIA API URL:'…"
      ]
     },
     "metadata": {},
     "output_type": "display_data"
    },
    {
     "data": {
      "application/vnd.jupyter.widget-view+json": {
       "model_id": "6ee1aeeae80f4876bc5455d8f509b9d6",
       "version_major": 2,
       "version_minor": 0
      },
      "text/plain": [
       "Output()"
      ]
     },
     "metadata": {},
     "output_type": "display_data"
    }
   ],
   "source": [
    "import ipywidgets as widgets\n",
    "from ipywidgets import interact, interactive, fixed, interact_manual\n",
    "from ipywidgets import TwoByTwoLayout\n",
    "from ipywidgets import AppLayout, Button, Layout\n",
    "\n",
    "\n",
    "sdia_conf_url_widget =  widgets.Text(\n",
    "    value='https://lifewatch.lab.uvalight.net:30003/orchestrator',\n",
    "    placeholder='Enter SDIA API endpoint. e.g. https://lifewatch.lab.uvalight.net:30003/orchestrator',\n",
    "    description='SDIA API URL:',\n",
    "    disabled=False\n",
    ")\n",
    "sdia_conf_username_widget =  widgets.Text(\n",
    "    value='notebook_user',\n",
    "    placeholder='Enter SDIA username',\n",
    "    description='SDIA username:',\n",
    "    disabled=False\n",
    ")\n",
    "\n",
    "sdia_conf_token_widget =  widgets.Password(\n",
    "    value='',\n",
    "    placeholder='Enter your SDIA token',\n",
    "    description='Password:',\n",
    "    disabled=False\n",
    ") \n",
    "\n",
    "sdia_conf_login_button = widgets.Button(\n",
    "    description='Login',\n",
    "    disabled=False,\n",
    "    button_style='', # 'success', 'info', 'warning', 'danger' or ''\n",
    "    tooltip='Run report',\n",
    "#     icon='check' # (FontAwesome names without the `fa-` prefix)\n",
    ")\n",
    "\n",
    "sdia_conf_output = widgets.Output()\n",
    "sdia_conf_box = widgets.VBox([sdia_conf_url_widget, sdia_conf_username_widget, sdia_conf_token_widget, sdia_conf_login_button])\n",
    "display(sdia_conf_box,sdia_conf_output)\n"
   ]
  },
  {
   "cell_type": "markdown",
   "metadata": {},
   "source": [
    "# Application Configuration"
   ]
  },
  {
   "cell_type": "code",
   "execution_count": 4,
   "metadata": {},
   "outputs": [
    {
     "data": {
      "application/vnd.jupyter.widget-view+json": {
       "model_id": "d7c0832443634725b18314d3f9c5add5",
       "version_major": 2,
       "version_minor": 0
      },
      "text/plain": [
       "VBox(children=(Dropdown(description='Application Type:', options=('Helm',), value='Helm'),))"
      ]
     },
     "metadata": {},
     "output_type": "display_data"
    },
    {
     "data": {
      "application/vnd.jupyter.widget-view+json": {
       "model_id": "a2696f6c4776444f97d11871cc050dae",
       "version_major": 2,
       "version_minor": 0
      },
      "text/plain": [
       "Output()"
      ]
     },
     "metadata": {},
     "output_type": "display_data"
    }
   ],
   "source": [
    "application_type_widget = widgets.Dropdown(\n",
    "    options=['Helm'],\n",
    "    value='Helm',\n",
    "    description='Application Type:',\n",
    "    disabled=False\n",
    ")\n",
    "\n",
    "application_type_output = widgets.Output()\n",
    "application_type_box = widgets.VBox([application_type_widget])\n",
    "display(application_type_box,application_type_output)"
   ]
  },
  {
   "cell_type": "code",
   "execution_count": 5,
   "metadata": {},
   "outputs": [
    {
     "data": {
      "application/vnd.jupyter.widget-view+json": {
       "model_id": "6435fa945de4476c8ee4ab44039a76fb",
       "version_major": 2,
       "version_minor": 0
      },
      "text/plain": [
       "VBox(children=(Text(value='argowf', description='Application Name:', placeholder='the applications name'), Tex…"
      ]
     },
     "metadata": {},
     "output_type": "display_data"
    },
    {
     "data": {
      "application/vnd.jupyter.widget-view+json": {
       "model_id": "0837fd9a849c4c0187c012dc0a1c945b",
       "version_major": 2,
       "version_minor": 0
      },
      "text/plain": [
       "Output()"
      ]
     },
     "metadata": {},
     "output_type": "display_data"
    }
   ],
   "source": [
    "docker_app_image_name_widget =  widgets.Textarea(\n",
    "    value='cloudcells/classifiers',\n",
    "    placeholder='image name e.g. cloudcells/classifiers',\n",
    "    description='Docker Image Name:',\n",
    "    disabled=False\n",
    ")\n",
    "\n",
    "docker_app_image_ports_widget =  widgets.Textarea(\n",
    "    value='',\n",
    "    placeholder='the ports to expose e.g. 80',\n",
    "    description='Ports:',\n",
    "    disabled=False\n",
    ")\n",
    "\n",
    "enebale_monitoring_widget= widgets.Checkbox(\n",
    "    value=True,\n",
    "    description='Monitoring',\n",
    "    disabled=False\n",
    ")\n",
    "\n",
    "app_name_widget =  widgets.Text(\n",
    "    value='argowf',\n",
    "    placeholder='the applications name',\n",
    "    description='Application Name:',\n",
    "    disabled=False\n",
    ")\n",
    "\n",
    "docker_app_box = widgets.VBox([app_name_widget,docker_app_image_name_widget, docker_app_image_ports_widget,enebale_monitoring_widget])\n",
    "\n",
    "                    \n",
    "helm_app_chart_name_widget =  widgets.Text(\n",
    "    value='argo/argo-workflows',\n",
    "    placeholder='the chart name e.g. argo/argo',\n",
    "    description='Chart Name:',\n",
    "    disabled=False\n",
    ")\n",
    "\n",
    "\n",
    "helm_app_repo_name_widget =  widgets.Text(\n",
    "    value='argo',\n",
    "    placeholder='the name of the repoitory name',\n",
    "    description='Reposetory Name:',\n",
    "    disabled=False\n",
    ")\n",
    "\n",
    "helm_app_repo_url_widget =  widgets.Text(\n",
    "    value='https://argoproj.github.io/argo-helm',\n",
    "    placeholder='the url',\n",
    "    description='Reposetory URL:',\n",
    "    disabled=False\n",
    ")\n",
    "\n",
    "helm_app_values =  widgets.Text(\n",
    "    value='server.serviceType=NodePort',\n",
    "    placeholder='helm values',\n",
    "    description='helm values',\n",
    "    disabled=False\n",
    ")\n",
    "\n",
    "helm_app_box = widgets.VBox([app_name_widget,helm_app_chart_name_widget, helm_app_repo_name_widget,helm_app_repo_url_widget,helm_app_values,enebale_monitoring_widget])\n",
    "\n",
    "app_conf_output = widgets.Output()\n",
    "\n",
    "if application_type_widget.value == 'Docker':\n",
    "    display(docker_app_box,app_conf_output)\n",
    "elif application_type_widget.value == 'Helm':\n",
    "    display(helm_app_box,app_conf_output)\n"
   ]
  },
  {
   "cell_type": "markdown",
   "metadata": {},
   "source": [
    "# Infrastructure Configuration"
   ]
  },
  {
   "cell_type": "markdown",
   "metadata": {},
   "source": [
    "## Number of Topologies\n",
    "A topology is a set of VMs that will be provisined in the same location by the same provider."
   ]
  },
  {
   "cell_type": "code",
   "execution_count": 6,
   "metadata": {},
   "outputs": [
    {
     "data": {
      "application/vnd.jupyter.widget-view+json": {
       "model_id": "3b7846a9f907443abf0e60d389094ac5",
       "version_major": 2,
       "version_minor": 0
      },
      "text/plain": [
       "VBox(children=(BoundedIntText(value=1, description='Num. Of Topologies:', max=4, min=1),))"
      ]
     },
     "metadata": {},
     "output_type": "display_data"
    },
    {
     "data": {
      "application/vnd.jupyter.widget-view+json": {
       "model_id": "afc87938bacc49ef9a6fdfb42b732767",
       "version_major": 2,
       "version_minor": 0
      },
      "text/plain": [
       "Output()"
      ]
     },
     "metadata": {},
     "output_type": "display_data"
    }
   ],
   "source": [
    "num_of_topologies_widget= widgets.BoundedIntText(\n",
    "    value=1,\n",
    "    min=1,\n",
    "    max=4,\n",
    "    step=1,\n",
    "    description='Num. Of Topologies:',\n",
    "    disabled=False\n",
    ")\n",
    "\n",
    "\n",
    "topologies_output = widgets.Output()\n",
    "number_of_topology_box = widgets.VBox([num_of_topologies_widget])\n",
    "display(number_of_topology_box,topologies_output)\n"
   ]
  },
  {
   "cell_type": "code",
   "execution_count": 9,
   "metadata": {},
   "outputs": [
    {
     "data": {
      "application/vnd.jupyter.widget-view+json": {
       "model_id": "fd30963f05cc441c8997f08af3fc8993",
       "version_major": 2,
       "version_minor": 0
      },
      "text/plain": [
       "VBox(children=(Tab(children=(VBox(children=(Dropdown(description='Cloud Provider:', index=1, options=('EC2', '…"
      ]
     },
     "metadata": {},
     "output_type": "display_data"
    },
    {
     "data": {
      "application/vnd.jupyter.widget-view+json": {
       "model_id": "fc92706f6ede494d8770e19b17ceb02b",
       "version_major": 2,
       "version_minor": 0
      },
      "text/plain": [
       "Output()"
      ]
     },
     "metadata": {},
     "output_type": "display_data"
    }
   ],
   "source": [
    "topologies_boxes = []\n",
    "domain_names = ['East US','Central US','South Central US','West US','Australia East','Southeast Asia','UK South','West Europe','North Europe','South Africa North','Central India']\n",
    "\n",
    "\n",
    "for i in range(0, num_of_topologies_widget.value):\n",
    "    cloud_provider_name_widget = widgets.Dropdown(\n",
    "        options=['EC2', 'Azure'],\n",
    "        value='Azure',\n",
    "        description='Cloud Provider:',\n",
    "        name='cloud_provider_name',\n",
    "        disabled=False\n",
    "    )\n",
    "    \n",
    "    num_of_vms_widget= widgets.BoundedIntText(\n",
    "        value=1,\n",
    "        min=1,\n",
    "        max=4,\n",
    "        step=1,\n",
    "        description='Num. Of VMs:',\n",
    "        disabled=False\n",
    "    )\n",
    "    vm_size_name_widget = widgets.Dropdown(\n",
    "        options=['small', 'medium','large','large_mem'],\n",
    "        value='large_mem',\n",
    "        description='VM size:',\n",
    "        disabled=False\n",
    "    )\n",
    "    topology_domain_widget = widgets.Dropdown(\n",
    "        options=domain_names,\n",
    "        value=domain_names[7],\n",
    "        description='Topology Domain:',\n",
    "        disabled=False\n",
    "    )\n",
    "    topology_box = widgets.VBox([cloud_provider_name_widget, num_of_vms_widget, vm_size_name_widget,topology_domain_widget])\n",
    "    topologies_boxes.append(topology_box)\n",
    "\n",
    "    \n",
    "    \n",
    "topologies_conf_tab = widgets.Tab()\n",
    "topologies_conf_tab.children = topologies_boxes\n",
    "for i in range(len(topologies_boxes)):\n",
    "    topologies_conf_tab.set_title(i, 'topology_'+str(i+1))\n",
    "    \n",
    "    \n",
    "topologies_conf_output = widgets.Output()\n",
    "topologies_conf_tab_box = widgets.VBox([topologies_conf_tab])\n",
    "display(topologies_conf_tab_box,topologies_conf_output)"
   ]
  },
  {
   "cell_type": "markdown",
   "metadata": {},
   "source": [
    "## Generate TOSCA"
   ]
  },
  {
   "cell_type": "code",
   "execution_count": 10,
   "metadata": {
    "scrolled": true
   },
   "outputs": [],
   "source": [
    "import requests\n",
    "\n",
    "\n",
    "def get_template(url):\n",
    "    r = requests.get(url)\n",
    "    with open('interface.yaml', 'wb') as f:\n",
    "        f.write(r.content)\n",
    "\n",
    "    with open('interface.yaml') as f:\n",
    "        interface = yaml.safe_load(f)\n",
    "    return interface\n",
    "    \n",
    "node_templates={}\n",
    "app_prop = []\n",
    "\n",
    "if application_type_widget.value == 'Docker':\n",
    "    app_prop.append('Image Name: '+docker_app_image_name_widget.value)\n",
    "    app_prop.append('Ports: '+docker_app_image_ports_widget.value)\n",
    "elif application_type_widget.value == 'Helm':\n",
    "    app_prop.append('Application Type: '+application_type_widget.value)\n",
    "    app_prop.append('Chart name: '+helm_app_chart_name_widget.value)\n",
    "    app_prop.append('Reposetory name: '+helm_app_repo_name_widget.value)\n",
    "    app_prop.append('Reposetory URL: '+helm_app_repo_url_widget.value)\n",
    "\n",
    "text = 'Application\\n'\n",
    "for line in app_prop:\n",
    "    text += line+'\\n'\n",
    "    \n",
    "\n",
    "def build_node_template(node_name=None,node_type=None,properties=None,requirements=None,interfaces=None):\n",
    "    node_template = {node_name:{'properties':properties,'requirements':requirements,'interfaces':interfaces,'type':node_type}}\n",
    "    return node_template\n",
    "    \n",
    "def translate_domain(cloud_provider,domain_name):\n",
    "    if cloud_provider == 'Azure':\n",
    "        return domain_name.lower().replace(' ','')\n",
    "    \n",
    "    \n",
    "def translate_vm_size(cloud_provider,vm_size):\n",
    "    vm_specs = {}\n",
    "    if vm_size == 'small':\n",
    "        vm_specs['num_cores']='1'\n",
    "        vm_specs['mem_size']='2048 MB'\n",
    "        vm_specs['disk_size']='10000 MB'\n",
    "    elif vm_size == 'medium':\n",
    "        vm_specs['num_cores']='2'\n",
    "        vm_specs['mem_size']='4048 MB'\n",
    "        vm_specs['disk_size']='20000 MB'\n",
    "    elif vm_size == 'large':\n",
    "        vm_specs['num_cores']='4'\n",
    "        vm_specs['mem_size']='8048 MB'\n",
    "        vm_specs['disk_size']='40000 MB'\n",
    "    elif vm_size == 'large_mem':\n",
    "        vm_specs['num_cores']='4'\n",
    "        vm_specs['mem_size']='256000 MB'\n",
    "        vm_specs['disk_size']='40000 MB'\n",
    "    return vm_specs\n",
    "    Generate\n",
    "    \n",
    "text += '\\nInfrastructure\\n'\n",
    "\n",
    "def repalce_all(d,dict_value,value):\n",
    "    for k, v in d.items():\n",
    "        if isinstance(v, dict):\n",
    "            repalce_all(v,dict_value,value)\n",
    "        else:\n",
    "            if v==dict_value:\n",
    "                v = value\n",
    "            if isinstance(v, list):\n",
    "                v = [value if i==dict_value else i for i in v]"
   ]
  },
  {
   "cell_type": "markdown",
   "metadata": {},
   "source": [
    "## Methods"
   ]
  },
  {
   "cell_type": "code",
   "execution_count": 11,
   "metadata": {},
   "outputs": [
    {
     "ename": "SyntaxError",
     "evalue": "invalid syntax (<ipython-input-11-de9a90286dbb>, line 160)",
     "output_type": "error",
     "traceback": [
      "\u001b[0;36m  File \u001b[0;32m\"<ipython-input-11-de9a90286dbb>\"\u001b[0;36m, line \u001b[0;32m160\u001b[0m\n\u001b[0;31m    if chart_name == 'argo/argo-workflows'\u001b[0m\n\u001b[0m                                          ^\u001b[0m\n\u001b[0;31mSyntaxError\u001b[0m\u001b[0;31m:\u001b[0m invalid syntax\n"
     ]
    }
   ],
   "source": [
    "def get_topology_info(topology_wiget_children, topology_num):\n",
    "    topology_info={}\n",
    "    topology_info['name'] = 'topology_'+str(index)\n",
    "    \n",
    "    for child in topology.children:\n",
    "        topology_info[child.description.replace(':','').replace(' ','_')]=child.value\n",
    "    return topology_info\n",
    "\n",
    "def get_vm_info(topology_info):\n",
    "    vm_name = 'compute_'+str(i)+'_'+topology_info['name']\n",
    "    vm_properties = {'os_distro': 'Ubuntu','os_version':'18.04','user_name': 'vm_user'}\n",
    "    vm_properties.update(translate_vm_size(topology_properties['provider'],topology_info['VM_size']))\n",
    "    vm_interfaces={'Standard':{'create':'dumy.yaml'}}\n",
    "    \n",
    "    vm_info={'name':vm_name,'properties':vm_properties,'interfaces':vm_interfaces,'type':'tosca.nodes.QC.VM.Compute'}\n",
    "    return vm_info\n",
    "        \n",
    "    \n",
    "def get_instance_properties(vm_name):\n",
    "    instance_props = {}\n",
    "    for prop_name in ['user_name','user_name','os_version','disk_size','mem_size','num_cores','os_distro']:\n",
    "        instance_props[prop_name] = { 'get_property': [vm_name, prop_name ] }\n",
    "    return instance_props\n",
    "\n",
    "def get_k8s_inventory(k8s_interface,count):\n",
    "    for interface_action_name in k8s_interface['Kubernetes']:\n",
    "        inv_children = k8s_interface['Kubernetes'][interface_action_name]['inputs']['inventory']['all']['children']['cluster']['children']\n",
    "        props={}\n",
    "        props['ansible_host'] = { 'get_attribute': [ vm_info['name'],'public_ip' ] }\n",
    "        props['ansible_python_interpreter'] = '/usr/bin/python3'\n",
    "        props['ansible_ssh_user'] = { 'get_property': [ vm_info['name'],'user_name' ] }\n",
    "        if count <=0:\n",
    "            inv_children['master']['hosts']['m_0'] = props\n",
    "        elif 'worker' in inv_children:\n",
    "            host={'w_'+str(count):props}\n",
    "            inv_children['worker']['hosts']= host\n",
    "            \n",
    "def get_azure_topology_interface(instances):\n",
    "    azure_topology_interface = get_template('https://raw.githubusercontent.com/qcdis-sdia/sdia-tosca/develop/templates/azure_topology_interface.yaml')\n",
    "    azure_topology_interface = yaml.safe_load(yaml.dump(azure_topology_interface).replace('TOPOLOGY_NAME',topology_info['name']))    \n",
    "    for interface_action_name in azure_topology_interface['Azure']:\n",
    "        if 'instances' in azure_topology_interface['Azure'][interface_action_name]['inputs']['inventory']['all']['hosts']['localhost']:\n",
    "            azure_topology_interface['Azure'][interface_action_name]['inputs']['inventory']['all']['hosts']['localhost']['instances'] = instances\n",
    "    return azure_topology_interface\n",
    "\n",
    "def get_azure_workflows():\n",
    "    wfs = {}\n",
    "    azure_workflows = get_template('https://raw.githubusercontent.com/qcdis-sdia/sdia-tosca/develop/templates/azure_prov_workflow.yaml')\n",
    "    for workflow_name in azure_workflows:\n",
    "        for step_name in azure_workflows[workflow_name]['steps']:\n",
    "            azure_workflows[workflow_name]['steps'][step_name]['target'] = topology_info['name']\n",
    "        if 'preconditions' in azure_workflows[workflow_name]:\n",
    "            for preconditions in azure_workflows[workflow_name]['preconditions']:\n",
    "                preconditions['target'] = topology_info['name']\n",
    "        wf = {workflow_name+'_'+topology_info['name']:azure_workflows[workflow_name]}\n",
    "        wfs.update(wf)\n",
    "    return wfs\n",
    "\n",
    "\n",
    "def get_k8s_workflows(topology_names,enebale_monitoring,helm_app_name):\n",
    "    wfs = {}\n",
    "    if enebale_monitoring:          \n",
    "        k8s_workflows = get_template('https://raw.githubusercontent.com/qcdis-sdia/sdia-tosca/develop/templates/k8s_workflow_heml_monitoring.yaml')\n",
    "    else:\n",
    "        k8s_workflows = get_template('https://raw.githubusercontent.com/qcdis-sdia/sdia-tosca/develop/templates/k8s_workflow.yaml')\n",
    "        \n",
    "    k8s_workflows = yaml.safe_load(yaml.dump(k8s_workflows).replace('KUBERNETES_NAME','kubernetes').replace('HELM_NAME',helm_app_name))\n",
    "    topology_preconditions = []\n",
    "    \n",
    "    for topology_name in topology_names:\n",
    "        precondition = {'condition': [{'assert': [{'current_state': [{'equal': 'RUNNING'}]}]}],\n",
    "                        'target': 'TOPOLOGY_NAME'}\n",
    "        precondition['target'] = topology_name\n",
    "        topology_preconditions.append(precondition)\n",
    "    \n",
    "    \n",
    "    for workflow_name in k8s_workflows:\n",
    "        print('Adding '+workflow_name)\n",
    "        if 'preconditions' in k8s_workflows[workflow_name]:\n",
    "            index = 0\n",
    "            topology_precondition_indexes = []\n",
    "            for precondition in k8s_workflows[workflow_name]['preconditions']:\n",
    "                if precondition['target'] == 'TOPOLOGY_NAME':\n",
    "                    topology_precondition_indexes.append(index)\n",
    "                index+=1\n",
    "            for topology_precondition_index in topology_precondition_indexes:\n",
    "                print('Removing: '+str(k8s_workflows[workflow_name]['preconditions'][topology_precondition_index]) + ' from: '+workflow_name)\n",
    "                del k8s_workflows[workflow_name]['preconditions'][topology_precondition_index]\n",
    "                \n",
    "        for topology_precondition in topology_preconditions:\n",
    "            print('Adding '+str(topology_precondition) + ' to: '+workflow_name)\n",
    "            k8s_workflows[workflow_name]['preconditions'].append(topology_precondition)\n",
    "        wf = {workflow_name: k8s_workflows[workflow_name]}\n",
    "        wfs.update(wf)\n",
    "    return wfs\n",
    "\n",
    "def get_helm_workflow(app_name,workflow):\n",
    "    wfs = {}        \n",
    "    workflow = yaml.safe_load(yaml.dump(workflow).replace('HELM_NAME',app_name))\n",
    "    for workflow_name in workflow:\n",
    "        wf = {workflow_name+'_'+app_name:helm_workflow[workflow_name]}\n",
    "        wfs.update(wf)\n",
    "    return wfs\n",
    "        \n",
    "\n",
    "    \n",
    "def get_helm_monitoring_info():\n",
    "    helm_monitoring_info={}\n",
    "    helm_req = {'kubernetes':{'capability': 'tosca.capabilities.QC.Kubernetes','node':'kubernetes' ,'relationship':'tosca.relationships.HostedOn'}}\n",
    "    helm_requirements = []\n",
    "    helm_requirements.append(helm_req)\n",
    "    helm_monitoring_info['requirements'] = helm_requirements\n",
    "    \n",
    "    monitoring_interface = get_template('https://raw.githubusercontent.com/qcdis-sdia/sdia-tosca/develop/templates/helm_interface.yaml')\n",
    "\n",
    "    ansible_vars = {}\n",
    "    ansible_vars['ansible_host']={ 'get_attribute': [ vm_master_name,'public_ip' ] }\n",
    "    ansible_vars['ansible_python_interpreter']= '/usr/bin/python3'\n",
    "    ansible_vars['ansible_ssh_user']= { 'get_property': [ vm_master_name,'user_name' ] }\n",
    "\n",
    "    for interface_action_name in monitoring_interface['Helm']:\n",
    "        monitoring_interface['Helm'][interface_action_name]['inputs']['inventory']['all']['hosts']['master'] = ansible_vars\n",
    "        \n",
    "    monitoring_interface['Helm']['install_chart']['inputs']['extra_variables']['chart_name'] = 'prometheus-community/kube-prometheus-stack'\n",
    "    monitoring_interface['Helm']['install_chart']['inputs']['extra_variables']['repo_name'] = 'prometheus-community'\n",
    "    monitoring_interface['Helm']['install_chart']['inputs']['extra_variables']['repo_url'] =  'https://prometheus-community.github.io/helm-charts'\n",
    "    monitoring_interface['Helm']['install_chart']['inputs']['extra_variables']['helm_name'] = 'monitoring'\n",
    "    monitoring_interface['Helm']['install_chart']['inputs']['extra_variables']['values'] = {'grafana': {'service':{'type':'NodePort'}}}\n",
    "    \n",
    "    helm_monitoring_info['interfaces'] = monitoring_interface\n",
    "    \n",
    "    helm_monitoring_info['name'] = 'monitoring'\n",
    "    return helm_monitoring_info\n",
    "\n",
    "\n",
    "def get_helm_app_info(chart_name,repo_name,repo_url, app_name,helm_app_values):\n",
    "    helm_app_info = {}\n",
    "    helm_interface = get_template('https://raw.githubusercontent.com/qcdis-sdia/sdia-tosca/develop/templates/helm_interface.yaml')\n",
    "    helm_interface['Helm']['install_chart']['inputs']['extra_variables']['chart_name'] = helm_app_chart_name_widget.value\n",
    "    helm_interface['Helm']['install_chart']['inputs']['extra_variables']['repo_name'] = helm_app_repo_name_widget.value\n",
    "    helm_interface['Helm']['install_chart']['inputs']['extra_variables']['repo_url'] = helm_app_repo_url_widget.value\n",
    "    helm_interface['Helm']['install_chart']['inputs']['extra_variables']['helm_name'] = app_name_widget.value\n",
    "    \n",
    "    ansible_vars = {}\n",
    "    ansible_vars['ansible_host']={ 'get_attribute': [ vm_master_name,'public_ip' ] }\n",
    "    ansible_vars['ansible_python_interpreter']= '/usr/bin/python3'\n",
    "    ansible_vars['ansible_ssh_user']= { 'get_property': [ vm_master_name,'user_name' ] }\n",
    "\n",
    "    for interface_action_name in helm_interface['Helm']:\n",
    "        helm_interface['Helm'][interface_action_name]['inputs']['inventory']['all']['hosts']['master'] = ansible_vars\n",
    "    \n",
    "    helm_req = {'kubernetes':{'capability': 'tosca.capabilities.QC.Kubernetes','node':'kubernetes' ,'relationship':'tosca.relationships.HostedOn'}}\n",
    "    helm_requirements = []\n",
    "    helm_requirements.append(helm_req)    \n",
    "    helm_app_info['requirements'] = helm_requirements\n",
    "    helm_app_info['interfaces'] = helm_interface\n",
    "    helm_app_info['name'] = app_name\n",
    "    \n",
    "    helm_dict_value = {}\n",
    "    if chart_name == 'argo/argo-workflows':\n",
    "        helm_dict_value['containerRuntimeExecutor'] = 'k8sapi'\n",
    "    \n",
    "    if helm_dict_value:\n",
    "        helm_dict_value.update(parse_helm_values(helm_app_values))\n",
    "    else:\n",
    "        helm_dict_value = parse_helm_values(helm_app_values)\n",
    "        helm_interface['Helm']['install_chart']['inputs']['extra_variables']['values'] = helm_dict_value\n",
    "    return helm_app_info"
   ]
  },
  {
   "cell_type": "code",
   "execution_count": 439,
   "metadata": {},
   "outputs": [
    {
     "name": "stdout",
     "output_type": "stream",
     "text": [
      "Adding template_wf_deploy_k8s\n",
      "Removing: {'condition': [{'assert': [{'current_state': [{'equal': 'RUNNING'}]}]}], 'target': 'TOPOLOGY_NAME'} from: template_wf_deploy_k8s\n",
      "Adding {'condition': [{'assert': [{'current_state': [{'equal': 'RUNNING'}]}]}], 'target': 'topology_1'} to: template_wf_deploy_k8s\n"
     ]
    }
   ],
   "source": [
    "index=0\n",
    "node_templates = {}\n",
    "\n",
    "k8s_interface = get_template('https://raw.githubusercontent.com/qcdis-sdia/sdia-tosca/develop/templates/k8s_interface.yaml')\n",
    "k8_requirements=[]\n",
    "workflows = {}\n",
    "    \n",
    "topology_names=[]\n",
    "for topology in topologies_boxes:\n",
    "    index+=1\n",
    "    \n",
    "    topology_info = get_topology_info(topology.children,index)\n",
    "    topology_names.append(topology_info['name'])\n",
    "    \n",
    "    topology_properties={}\n",
    "    topology_properties['domain']=translate_domain(topology_info['Cloud_Provider'],topology_info['Topology_Domain'])\n",
    "    topology_properties['provider'] = topology_info['Cloud_Provider']\n",
    "    topology_requirements=[]\n",
    "    instances = {}\n",
    "    \n",
    "    for i in range(topology_info['Num._Of_VMs']):\n",
    "        vm_info = get_vm_info(topology_info)\n",
    "        node_templates.update(build_node_template(node_name=vm_info['name'],node_type=vm_info['type'],properties=vm_info['properties'],interfaces=vm_info['interfaces']))\n",
    "        vm_req={'vm':{'capability': 'tosca.capabilities.QC.VM','node':vm_info['name'] ,'relationship':'tosca.relationships.DependsOn'}}\n",
    "        topology_requirements.append(vm_req)  \n",
    "        instance_props =  get_instance_properties(vm_info['name'])\n",
    "        instances[vm_info['name']] = instance_props\n",
    "        inv_children = get_k8s_inventory(k8s_interface,i)\n",
    "\n",
    "                \n",
    "    azure_topology_interface = get_azure_topology_interface(instances)\n",
    "            \n",
    "    azure_workflows = get_azure_workflows()\n",
    "    workflows.update(azure_workflows)\n",
    "    \n",
    "k8s_workflows = get_k8s_workflows(topology_names,enebale_monitoring_widget.value,app_name_widget.value)\n",
    "workflows.update(k8s_workflows)\n",
    "                \n",
    "k8_requirement={'host':{'capability': 'tosca.capabilities.QC.VM.topology','node':topology_info['name'] ,'relationship':'tosca.relationships.HostedOn'}}\n",
    "k8_requirements.append(k8_requirement)\n",
    "node_templates.update(build_node_template(node_name=topology_info['name'],node_type='tosca.nodes.QC.VM.topology',properties=topology_properties,requirements=topology_requirements,interfaces=azure_topology_interface))\n",
    "    "
   ]
  },
  {
   "cell_type": "code",
   "execution_count": 440,
   "metadata": {},
   "outputs": [],
   "source": [
    "vm_master_name = 'compute_'+str(0)+'_'+topology_info['name']\n",
    "credential_properties = {'credential': { 'get_attribute': [ vm_master_name,'user_key_pair' ] }}        \n",
    "ks8s_node = build_node_template(node_name='kubernetes',node_type='tosca.nodes.QC.docker.Orchestrator.Kubernetes',\n",
    "                                properties=credential_properties,requirements=k8_requirements,interfaces=k8s_interface)\n",
    "node_templates.update(ks8s_node)"
   ]
  },
  {
   "cell_type": "code",
   "execution_count": 441,
   "metadata": {},
   "outputs": [],
   "source": [
    "import json \n",
    "\n",
    "def parse_helm_values(helm_values):\n",
    "    str_dict = '{\\\"'\n",
    "    for item in helm_values.split(\".\"):\n",
    "        if '=' not in item:\n",
    "            str_dict+=item+'\\\":{'\n",
    "        if '=' in item:\n",
    "            str_dict+='\\\"'+item.split(\"=\")[0]+'\\\":\\\"'+item.split(\"=\")[1]+'\\\"}}'\n",
    "    return json.loads(str_dict)\n",
    "\n",
    "\n",
    "\n",
    "if enebale_monitoring_widget.value:\n",
    "    helm_monitoring_info = get_helm_monitoring_info()\n",
    "    node_templates.update(build_node_template(node_name=helm_monitoring_info['name'],node_type='tosca.nodes.QC.Container.Application.Helm',\n",
    "                                                  properties=credential_properties,requirements=helm_monitoring_info['requirements'],\n",
    "                                              interfaces=helm_monitoring_info['interfaces']))\n",
    "    \n",
    "\n",
    "    \n",
    "helm_app_info = get_helm_app_info(helm_app_chart_name_widget.value, helm_app_repo_name_widget.value, \n",
    "                                  helm_app_repo_url_widget.value,app_name_widget.value,helm_app_values.value)\n",
    "\n",
    "            \n",
    "node_templates.update(build_node_template(node_name=helm_app_info['name'],\n",
    "                                          node_type='tosca.nodes.QC.Container.Application.Helm',\n",
    "                                          properties=credential_properties,\n",
    "                                          requirements=helm_app_info['requirements'],\n",
    "                                          interfaces=helm_app_info['interfaces']))"
   ]
  },
  {
   "cell_type": "code",
   "execution_count": null,
   "metadata": {},
   "outputs": [],
   "source": [
    "\n",
    "    \n"
   ]
  },
  {
   "cell_type": "code",
   "execution_count": 442,
   "metadata": {},
   "outputs": [],
   "source": [
    "import os\n",
    "\n",
    "topology_template={}\n",
    "topology_template['node_templates'] = node_templates\n",
    "topology_template['workflows'] = workflows\n",
    "tosca = {}\n",
    "tosca['tosca_definitions_version'] = 'tosca_simple_yaml_1_2'\n",
    "imports=[{'nodes':'https://raw.githubusercontent.com/qcdis-sdia/sdia-tosca/master/types/nodes.yaml','data':'https://raw.githubusercontent.com/qcdis-sdia/sdia-tosca/master/types/data.yml','capabilities':'https://raw.githubusercontent.com/qcdis-sdia/sdia-tosca/master/types/capabilities.yaml','policies':'https://raw.githubusercontent.com/qcdis-sdia/sdia-tosca/master/types/policies.yaml','interfaces':'https://raw.githubusercontent.com/qcdis-sdia/sdia-tosca/master/types/interfaces.yml'}]\n",
    "tosca['imports'] = imports\n",
    "repositories = {'docker_hub':'https://hub.docker.com/'}\n",
    "tosca['repositories'] = repositories\n",
    "tosca['topology_template'] = topology_template\n",
    "\n",
    "class NoAliasDumper(yaml.Dumper):\n",
    "    def ignore_aliases(self, data):\n",
    "        return True\n",
    "    \n",
    "\n",
    "filePath = 'generated_tosca.yaml';\n",
    "if os.path.exists(filePath):\n",
    "    os.remove(filePath)\n",
    "    \n",
    "with open(filePath, 'w') as file:\n",
    "    yaml.dump(tosca, file,default_flow_style=False,Dumper=NoAliasDumper)"
   ]
  },
  {
   "cell_type": "markdown",
   "metadata": {},
   "source": [
    "## Upload TOSCA"
   ]
  },
  {
   "cell_type": "code",
   "execution_count": 443,
   "metadata": {},
   "outputs": [],
   "source": [
    "import urllib3\n",
    "urllib3.disable_warnings(urllib3.exceptions.InsecureRequestWarning)\n",
    "\n",
    "base_url = sdia_conf_url_widget.value\n",
    "username = sdia_conf_username_widget.value\n",
    "password = sdia_conf_token_widget.value\n",
    "\n",
    "path = \"/tosca_template\"\n",
    "payload = {}\n",
    "filename = 'generated_tosca.yaml'\n",
    "fin = open(filename, 'rb')\n",
    "files = {'file': fin}\n",
    "\n",
    "headers = {}\n",
    "\n",
    "response = requests.request(\"POST\", base_url+path, headers=headers, files = files,verify=False,auth=(username, password))\n",
    "tosca_id = response.text"
   ]
  },
  {
   "cell_type": "markdown",
   "metadata": {},
   "source": [
    "## Show Topology"
   ]
  },
  {
   "cell_type": "code",
   "execution_count": 444,
   "metadata": {},
   "outputs": [
    {
     "data": {
      "image/png": "[encoded data removed]",
      "text/plain": [
       "<Figure size 1440x720 with 1 Axes>"
      ]
     },
     "metadata": {},
     "output_type": "display_data"
    }
   ],
   "source": [
    "import networkx as nx\n",
    "import random\n",
    "import matplotlib.pyplot as plt\n",
    "\n",
    "\n",
    "\n",
    "def build_graph(node_templates):\n",
    "    graph = nx.DiGraph()\n",
    "    for node_name in node_templates:\n",
    "        graph.add_node(node_name, attr_dict=node_templates[node_name])\n",
    "        if 'requirements' in node_templates[node_name]:\n",
    "            for req in node_templates[node_name]['requirements']:\n",
    "                req_name = next(iter(req))\n",
    "                req_node_name = req[req_name]['node']\n",
    "                if 'relationship' in req[req_name] and 'type' in req[req_name]['relationship']:\n",
    "                    relationship_type = req[req_name]['relationship']['type']\n",
    "                else:\n",
    "                    if 'relationship' not in req[req_name]:\n",
    "                        relationship_type = 'tosca.relationships.DependsOn'\n",
    "                    else:\n",
    "                        relationship_type = req[req_name]['relationship']\n",
    "                graph.add_edge(node_name, req_node_name, relationship=relationship_type)\n",
    "\n",
    "    # nx.draw(graph, with_labels=True)\n",
    "    # plt.savefig(\"/tmp/graph.png\")\n",
    "    # plt.show()\n",
    "    return graph\n",
    "\n",
    "\n",
    "\n",
    "\n",
    "def get_tosca(tosca_id):\n",
    "    path = \"/tosca_template/\"+tosca_id\n",
    "    payload = {}\n",
    "    headers= {'accept':'text/plain'}\n",
    "    response = requests.request(\"GET\", base_url+path, headers=headers, data = payload,verify=False, auth=(username, password))\n",
    "    return response.text\n",
    "\n",
    "tosca = get_tosca(tosca_id)\n",
    "tosca_dict = yaml.safe_load(tosca)\n",
    "graph = build_graph(tosca_dict['topology_template']['node_templates'])\n",
    "# nx.draw(graph, with_labels=True)\n",
    "\n",
    "fig, ax = plt.subplots(1, 1, figsize=(20, 10));\n",
    "# nx.draw_networkx(graph, ax=ax,node_size=5000, node_color='#00b4d9')\n",
    "\n",
    "\n",
    "nx.draw(graph, with_labels=True, node_size=1500, node_color=\"skyblue\", node_shape=\"s\", alpha=0.9, linewidths=10,pos=nx.spring_layout(graph))\n",
    "plt.title(\"VRE Infastacure\")\n",
    "plt.show()\n",
    "\n",
    "\n",
    "\n"
   ]
  },
  {
   "cell_type": "markdown",
   "metadata": {},
   "source": [
    "## Provision Plan"
   ]
  },
  {
   "cell_type": "code",
   "execution_count": 446,
   "metadata": {},
   "outputs": [
    {
     "ename": "KeyboardInterrupt",
     "evalue": "",
     "output_type": "error",
     "traceback": [
      "\u001b[0;31m---------------------------------------------------------------------------\u001b[0m",
      "\u001b[0;31mKeyboardInterrupt\u001b[0m                         Traceback (most recent call last)",
      "\u001b[0;32m<ipython-input-446-4ece1d246ad1>\u001b[0m in \u001b[0;36m<module>\u001b[0;34m\u001b[0m\n\u001b[1;32m      3\u001b[0m \u001b[0mheaders\u001b[0m\u001b[0;34m=\u001b[0m \u001b[0;34m{\u001b[0m\u001b[0;34m'accept'\u001b[0m\u001b[0;34m:\u001b[0m\u001b[0;34m'text/plain'\u001b[0m\u001b[0;34m}\u001b[0m\u001b[0;34m\u001b[0m\u001b[0;34m\u001b[0m\u001b[0m\n\u001b[1;32m      4\u001b[0m \u001b[0;34m\u001b[0m\u001b[0m\n\u001b[0;32m----> 5\u001b[0;31m \u001b[0mresponse\u001b[0m \u001b[0;34m=\u001b[0m \u001b[0mrequests\u001b[0m\u001b[0;34m.\u001b[0m\u001b[0mrequest\u001b[0m\u001b[0;34m(\u001b[0m\u001b[0;34m\"GET\"\u001b[0m\u001b[0;34m,\u001b[0m \u001b[0mbase_url\u001b[0m\u001b[0;34m+\u001b[0m\u001b[0mpath\u001b[0m\u001b[0;34m,\u001b[0m \u001b[0mheaders\u001b[0m\u001b[0;34m=\u001b[0m\u001b[0mheaders\u001b[0m\u001b[0;34m,\u001b[0m \u001b[0mdata\u001b[0m \u001b[0;34m=\u001b[0m \u001b[0mpayload\u001b[0m\u001b[0;34m,\u001b[0m\u001b[0mverify\u001b[0m\u001b[0;34m=\u001b[0m\u001b[0;32mFalse\u001b[0m\u001b[0;34m,\u001b[0m \u001b[0mauth\u001b[0m\u001b[0;34m=\u001b[0m\u001b[0;34m(\u001b[0m\u001b[0musername\u001b[0m\u001b[0;34m,\u001b[0m \u001b[0mpassword\u001b[0m\u001b[0;34m)\u001b[0m\u001b[0;34m)\u001b[0m\u001b[0;34m\u001b[0m\u001b[0;34m\u001b[0m\u001b[0m\n\u001b[0m\u001b[1;32m      6\u001b[0m \u001b[0;32mif\u001b[0m \u001b[0mresponse\u001b[0m\u001b[0;34m.\u001b[0m\u001b[0mstatus_code\u001b[0m \u001b[0;34m!=\u001b[0m \u001b[0;36m200\u001b[0m\u001b[0;34m:\u001b[0m\u001b[0;34m\u001b[0m\u001b[0;34m\u001b[0m\u001b[0m\n\u001b[1;32m      7\u001b[0m     \u001b[0;32mraise\u001b[0m \u001b[0mExeption\u001b[0m\u001b[0;34m(\u001b[0m\u001b[0;34m'Somtheing was wrong with the request'\u001b[0m\u001b[0;34m)\u001b[0m\u001b[0;34m\u001b[0m\u001b[0;34m\u001b[0m\u001b[0m\n",
      "\u001b[0;32m/opt/conda/lib/python3.8/site-packages/requests/api.py\u001b[0m in \u001b[0;36mrequest\u001b[0;34m(method, url, **kwargs)\u001b[0m\n\u001b[1;32m     59\u001b[0m     \u001b[0;31m# cases, and look like a memory leak in others.\u001b[0m\u001b[0;34m\u001b[0m\u001b[0;34m\u001b[0m\u001b[0;34m\u001b[0m\u001b[0m\n\u001b[1;32m     60\u001b[0m     \u001b[0;32mwith\u001b[0m \u001b[0msessions\u001b[0m\u001b[0;34m.\u001b[0m\u001b[0mSession\u001b[0m\u001b[0;34m(\u001b[0m\u001b[0;34m)\u001b[0m \u001b[0;32mas\u001b[0m \u001b[0msession\u001b[0m\u001b[0;34m:\u001b[0m\u001b[0;34m\u001b[0m\u001b[0;34m\u001b[0m\u001b[0m\n\u001b[0;32m---> 61\u001b[0;31m         \u001b[0;32mreturn\u001b[0m \u001b[0msession\u001b[0m\u001b[0;34m.\u001b[0m\u001b[0mrequest\u001b[0m\u001b[0;34m(\u001b[0m\u001b[0mmethod\u001b[0m\u001b[0;34m=\u001b[0m\u001b[0mmethod\u001b[0m\u001b[0;34m,\u001b[0m \u001b[0murl\u001b[0m\u001b[0;34m=\u001b[0m\u001b[0murl\u001b[0m\u001b[0;34m,\u001b[0m \u001b[0;34m**\u001b[0m\u001b[0mkwargs\u001b[0m\u001b[0;34m)\u001b[0m\u001b[0;34m\u001b[0m\u001b[0;34m\u001b[0m\u001b[0m\n\u001b[0m\u001b[1;32m     62\u001b[0m \u001b[0;34m\u001b[0m\u001b[0m\n\u001b[1;32m     63\u001b[0m \u001b[0;34m\u001b[0m\u001b[0m\n",
      "\u001b[0;32m/opt/conda/lib/python3.8/site-packages/requests/sessions.py\u001b[0m in \u001b[0;36mrequest\u001b[0;34m(self, method, url, params, data, headers, cookies, files, auth, timeout, allow_redirects, proxies, hooks, stream, verify, cert, json)\u001b[0m\n\u001b[1;32m    540\u001b[0m         }\n\u001b[1;32m    541\u001b[0m         \u001b[0msend_kwargs\u001b[0m\u001b[0;34m.\u001b[0m\u001b[0mupdate\u001b[0m\u001b[0;34m(\u001b[0m\u001b[0msettings\u001b[0m\u001b[0;34m)\u001b[0m\u001b[0;34m\u001b[0m\u001b[0;34m\u001b[0m\u001b[0m\n\u001b[0;32m--> 542\u001b[0;31m         \u001b[0mresp\u001b[0m \u001b[0;34m=\u001b[0m \u001b[0mself\u001b[0m\u001b[0;34m.\u001b[0m\u001b[0msend\u001b[0m\u001b[0;34m(\u001b[0m\u001b[0mprep\u001b[0m\u001b[0;34m,\u001b[0m \u001b[0;34m**\u001b[0m\u001b[0msend_kwargs\u001b[0m\u001b[0;34m)\u001b[0m\u001b[0;34m\u001b[0m\u001b[0;34m\u001b[0m\u001b[0m\n\u001b[0m\u001b[1;32m    543\u001b[0m \u001b[0;34m\u001b[0m\u001b[0m\n\u001b[1;32m    544\u001b[0m         \u001b[0;32mreturn\u001b[0m \u001b[0mresp\u001b[0m\u001b[0;34m\u001b[0m\u001b[0;34m\u001b[0m\u001b[0m\n",
      "\u001b[0;32m/opt/conda/lib/python3.8/site-packages/requests/sessions.py\u001b[0m in \u001b[0;36msend\u001b[0;34m(self, request, **kwargs)\u001b[0m\n\u001b[1;32m    653\u001b[0m \u001b[0;34m\u001b[0m\u001b[0m\n\u001b[1;32m    654\u001b[0m         \u001b[0;31m# Send the request\u001b[0m\u001b[0;34m\u001b[0m\u001b[0;34m\u001b[0m\u001b[0;34m\u001b[0m\u001b[0m\n\u001b[0;32m--> 655\u001b[0;31m         \u001b[0mr\u001b[0m \u001b[0;34m=\u001b[0m \u001b[0madapter\u001b[0m\u001b[0;34m.\u001b[0m\u001b[0msend\u001b[0m\u001b[0;34m(\u001b[0m\u001b[0mrequest\u001b[0m\u001b[0;34m,\u001b[0m \u001b[0;34m**\u001b[0m\u001b[0mkwargs\u001b[0m\u001b[0;34m)\u001b[0m\u001b[0;34m\u001b[0m\u001b[0;34m\u001b[0m\u001b[0m\n\u001b[0m\u001b[1;32m    656\u001b[0m \u001b[0;34m\u001b[0m\u001b[0m\n\u001b[1;32m    657\u001b[0m         \u001b[0;31m# Total elapsed time of the request (approximately)\u001b[0m\u001b[0;34m\u001b[0m\u001b[0;34m\u001b[0m\u001b[0;34m\u001b[0m\u001b[0m\n",
      "\u001b[0;32m/opt/conda/lib/python3.8/site-packages/requests/adapters.py\u001b[0m in \u001b[0;36msend\u001b[0;34m(self, request, stream, timeout, verify, cert, proxies)\u001b[0m\n\u001b[1;32m    437\u001b[0m         \u001b[0;32mtry\u001b[0m\u001b[0;34m:\u001b[0m\u001b[0;34m\u001b[0m\u001b[0;34m\u001b[0m\u001b[0m\n\u001b[1;32m    438\u001b[0m             \u001b[0;32mif\u001b[0m \u001b[0;32mnot\u001b[0m \u001b[0mchunked\u001b[0m\u001b[0;34m:\u001b[0m\u001b[0;34m\u001b[0m\u001b[0;34m\u001b[0m\u001b[0m\n\u001b[0;32m--> 439\u001b[0;31m                 resp = conn.urlopen(\n\u001b[0m\u001b[1;32m    440\u001b[0m                     \u001b[0mmethod\u001b[0m\u001b[0;34m=\u001b[0m\u001b[0mrequest\u001b[0m\u001b[0;34m.\u001b[0m\u001b[0mmethod\u001b[0m\u001b[0;34m,\u001b[0m\u001b[0;34m\u001b[0m\u001b[0;34m\u001b[0m\u001b[0m\n\u001b[1;32m    441\u001b[0m                     \u001b[0murl\u001b[0m\u001b[0;34m=\u001b[0m\u001b[0murl\u001b[0m\u001b[0;34m,\u001b[0m\u001b[0;34m\u001b[0m\u001b[0;34m\u001b[0m\u001b[0m\n",
      "\u001b[0;32m/opt/conda/lib/python3.8/site-packages/urllib3/connectionpool.py\u001b[0m in \u001b[0;36murlopen\u001b[0;34m(self, method, url, body, headers, retries, redirect, assert_same_host, timeout, pool_timeout, release_conn, chunked, body_pos, **response_kw)\u001b[0m\n\u001b[1;32m    668\u001b[0m \u001b[0;34m\u001b[0m\u001b[0m\n\u001b[1;32m    669\u001b[0m             \u001b[0;31m# Make the request on the httplib connection object.\u001b[0m\u001b[0;34m\u001b[0m\u001b[0;34m\u001b[0m\u001b[0;34m\u001b[0m\u001b[0m\n\u001b[0;32m--> 670\u001b[0;31m             httplib_response = self._make_request(\n\u001b[0m\u001b[1;32m    671\u001b[0m                 \u001b[0mconn\u001b[0m\u001b[0;34m,\u001b[0m\u001b[0;34m\u001b[0m\u001b[0;34m\u001b[0m\u001b[0m\n\u001b[1;32m    672\u001b[0m                 \u001b[0mmethod\u001b[0m\u001b[0;34m,\u001b[0m\u001b[0;34m\u001b[0m\u001b[0;34m\u001b[0m\u001b[0m\n",
      "\u001b[0;32m/opt/conda/lib/python3.8/site-packages/urllib3/connectionpool.py\u001b[0m in \u001b[0;36m_make_request\u001b[0;34m(self, conn, method, url, timeout, chunked, **httplib_request_kw)\u001b[0m\n\u001b[1;32m    424\u001b[0m                     \u001b[0;31m# Python 3 (including for exceptions like SystemExit).\u001b[0m\u001b[0;34m\u001b[0m\u001b[0;34m\u001b[0m\u001b[0;34m\u001b[0m\u001b[0m\n\u001b[1;32m    425\u001b[0m                     \u001b[0;31m# Otherwise it looks like a bug in the code.\u001b[0m\u001b[0;34m\u001b[0m\u001b[0;34m\u001b[0m\u001b[0;34m\u001b[0m\u001b[0m\n\u001b[0;32m--> 426\u001b[0;31m                     \u001b[0msix\u001b[0m\u001b[0;34m.\u001b[0m\u001b[0mraise_from\u001b[0m\u001b[0;34m(\u001b[0m\u001b[0me\u001b[0m\u001b[0;34m,\u001b[0m \u001b[0;32mNone\u001b[0m\u001b[0;34m)\u001b[0m\u001b[0;34m\u001b[0m\u001b[0;34m\u001b[0m\u001b[0m\n\u001b[0m\u001b[1;32m    427\u001b[0m         \u001b[0;32mexcept\u001b[0m \u001b[0;34m(\u001b[0m\u001b[0mSocketTimeout\u001b[0m\u001b[0;34m,\u001b[0m \u001b[0mBaseSSLError\u001b[0m\u001b[0;34m,\u001b[0m \u001b[0mSocketError\u001b[0m\u001b[0;34m)\u001b[0m \u001b[0;32mas\u001b[0m \u001b[0me\u001b[0m\u001b[0;34m:\u001b[0m\u001b[0;34m\u001b[0m\u001b[0;34m\u001b[0m\u001b[0m\n\u001b[1;32m    428\u001b[0m             \u001b[0mself\u001b[0m\u001b[0;34m.\u001b[0m\u001b[0m_raise_timeout\u001b[0m\u001b[0;34m(\u001b[0m\u001b[0merr\u001b[0m\u001b[0;34m=\u001b[0m\u001b[0me\u001b[0m\u001b[0;34m,\u001b[0m \u001b[0murl\u001b[0m\u001b[0;34m=\u001b[0m\u001b[0murl\u001b[0m\u001b[0;34m,\u001b[0m \u001b[0mtimeout_value\u001b[0m\u001b[0;34m=\u001b[0m\u001b[0mread_timeout\u001b[0m\u001b[0;34m)\u001b[0m\u001b[0;34m\u001b[0m\u001b[0;34m\u001b[0m\u001b[0m\n",
      "\u001b[0;32m/opt/conda/lib/python3.8/site-packages/urllib3/packages/six.py\u001b[0m in \u001b[0;36mraise_from\u001b[0;34m(value, from_value)\u001b[0m\n",
      "\u001b[0;32m/opt/conda/lib/python3.8/site-packages/urllib3/connectionpool.py\u001b[0m in \u001b[0;36m_make_request\u001b[0;34m(self, conn, method, url, timeout, chunked, **httplib_request_kw)\u001b[0m\n\u001b[1;32m    419\u001b[0m                 \u001b[0;31m# Python 3\u001b[0m\u001b[0;34m\u001b[0m\u001b[0;34m\u001b[0m\u001b[0;34m\u001b[0m\u001b[0m\n\u001b[1;32m    420\u001b[0m                 \u001b[0;32mtry\u001b[0m\u001b[0;34m:\u001b[0m\u001b[0;34m\u001b[0m\u001b[0;34m\u001b[0m\u001b[0m\n\u001b[0;32m--> 421\u001b[0;31m                     \u001b[0mhttplib_response\u001b[0m \u001b[0;34m=\u001b[0m \u001b[0mconn\u001b[0m\u001b[0;34m.\u001b[0m\u001b[0mgetresponse\u001b[0m\u001b[0;34m(\u001b[0m\u001b[0;34m)\u001b[0m\u001b[0;34m\u001b[0m\u001b[0;34m\u001b[0m\u001b[0m\n\u001b[0m\u001b[1;32m    422\u001b[0m                 \u001b[0;32mexcept\u001b[0m \u001b[0mBaseException\u001b[0m \u001b[0;32mas\u001b[0m \u001b[0me\u001b[0m\u001b[0;34m:\u001b[0m\u001b[0;34m\u001b[0m\u001b[0;34m\u001b[0m\u001b[0m\n\u001b[1;32m    423\u001b[0m                     \u001b[0;31m# Remove the TypeError from the exception chain in\u001b[0m\u001b[0;34m\u001b[0m\u001b[0;34m\u001b[0m\u001b[0;34m\u001b[0m\u001b[0m\n",
      "\u001b[0;32m/opt/conda/lib/python3.8/http/client.py\u001b[0m in \u001b[0;36mgetresponse\u001b[0;34m(self)\u001b[0m\n\u001b[1;32m   1345\u001b[0m         \u001b[0;32mtry\u001b[0m\u001b[0;34m:\u001b[0m\u001b[0;34m\u001b[0m\u001b[0;34m\u001b[0m\u001b[0m\n\u001b[1;32m   1346\u001b[0m             \u001b[0;32mtry\u001b[0m\u001b[0;34m:\u001b[0m\u001b[0;34m\u001b[0m\u001b[0;34m\u001b[0m\u001b[0m\n\u001b[0;32m-> 1347\u001b[0;31m                 \u001b[0mresponse\u001b[0m\u001b[0;34m.\u001b[0m\u001b[0mbegin\u001b[0m\u001b[0;34m(\u001b[0m\u001b[0;34m)\u001b[0m\u001b[0;34m\u001b[0m\u001b[0;34m\u001b[0m\u001b[0m\n\u001b[0m\u001b[1;32m   1348\u001b[0m             \u001b[0;32mexcept\u001b[0m \u001b[0mConnectionError\u001b[0m\u001b[0;34m:\u001b[0m\u001b[0;34m\u001b[0m\u001b[0;34m\u001b[0m\u001b[0m\n\u001b[1;32m   1349\u001b[0m                 \u001b[0mself\u001b[0m\u001b[0;34m.\u001b[0m\u001b[0mclose\u001b[0m\u001b[0;34m(\u001b[0m\u001b[0;34m)\u001b[0m\u001b[0;34m\u001b[0m\u001b[0;34m\u001b[0m\u001b[0m\n",
      "\u001b[0;32m/opt/conda/lib/python3.8/http/client.py\u001b[0m in \u001b[0;36mbegin\u001b[0;34m(self)\u001b[0m\n\u001b[1;32m    305\u001b[0m         \u001b[0;31m# read until we get a non-100 response\u001b[0m\u001b[0;34m\u001b[0m\u001b[0;34m\u001b[0m\u001b[0;34m\u001b[0m\u001b[0m\n\u001b[1;32m    306\u001b[0m         \u001b[0;32mwhile\u001b[0m \u001b[0;32mTrue\u001b[0m\u001b[0;34m:\u001b[0m\u001b[0;34m\u001b[0m\u001b[0;34m\u001b[0m\u001b[0m\n\u001b[0;32m--> 307\u001b[0;31m             \u001b[0mversion\u001b[0m\u001b[0;34m,\u001b[0m \u001b[0mstatus\u001b[0m\u001b[0;34m,\u001b[0m \u001b[0mreason\u001b[0m \u001b[0;34m=\u001b[0m \u001b[0mself\u001b[0m\u001b[0;34m.\u001b[0m\u001b[0m_read_status\u001b[0m\u001b[0;34m(\u001b[0m\u001b[0;34m)\u001b[0m\u001b[0;34m\u001b[0m\u001b[0;34m\u001b[0m\u001b[0m\n\u001b[0m\u001b[1;32m    308\u001b[0m             \u001b[0;32mif\u001b[0m \u001b[0mstatus\u001b[0m \u001b[0;34m!=\u001b[0m \u001b[0mCONTINUE\u001b[0m\u001b[0;34m:\u001b[0m\u001b[0;34m\u001b[0m\u001b[0;34m\u001b[0m\u001b[0m\n\u001b[1;32m    309\u001b[0m                 \u001b[0;32mbreak\u001b[0m\u001b[0;34m\u001b[0m\u001b[0;34m\u001b[0m\u001b[0m\n",
      "\u001b[0;32m/opt/conda/lib/python3.8/http/client.py\u001b[0m in \u001b[0;36m_read_status\u001b[0;34m(self)\u001b[0m\n\u001b[1;32m    266\u001b[0m \u001b[0;34m\u001b[0m\u001b[0m\n\u001b[1;32m    267\u001b[0m     \u001b[0;32mdef\u001b[0m \u001b[0m_read_status\u001b[0m\u001b[0;34m(\u001b[0m\u001b[0mself\u001b[0m\u001b[0;34m)\u001b[0m\u001b[0;34m:\u001b[0m\u001b[0;34m\u001b[0m\u001b[0;34m\u001b[0m\u001b[0m\n\u001b[0;32m--> 268\u001b[0;31m         \u001b[0mline\u001b[0m \u001b[0;34m=\u001b[0m \u001b[0mstr\u001b[0m\u001b[0;34m(\u001b[0m\u001b[0mself\u001b[0m\u001b[0;34m.\u001b[0m\u001b[0mfp\u001b[0m\u001b[0;34m.\u001b[0m\u001b[0mreadline\u001b[0m\u001b[0;34m(\u001b[0m\u001b[0m_MAXLINE\u001b[0m \u001b[0;34m+\u001b[0m \u001b[0;36m1\u001b[0m\u001b[0;34m)\u001b[0m\u001b[0;34m,\u001b[0m \u001b[0;34m\"iso-8859-1\"\u001b[0m\u001b[0;34m)\u001b[0m\u001b[0;34m\u001b[0m\u001b[0;34m\u001b[0m\u001b[0m\n\u001b[0m\u001b[1;32m    269\u001b[0m         \u001b[0;32mif\u001b[0m \u001b[0mlen\u001b[0m\u001b[0;34m(\u001b[0m\u001b[0mline\u001b[0m\u001b[0;34m)\u001b[0m \u001b[0;34m>\u001b[0m \u001b[0m_MAXLINE\u001b[0m\u001b[0;34m:\u001b[0m\u001b[0;34m\u001b[0m\u001b[0;34m\u001b[0m\u001b[0m\n\u001b[1;32m    270\u001b[0m             \u001b[0;32mraise\u001b[0m \u001b[0mLineTooLong\u001b[0m\u001b[0;34m(\u001b[0m\u001b[0;34m\"status line\"\u001b[0m\u001b[0;34m)\u001b[0m\u001b[0;34m\u001b[0m\u001b[0;34m\u001b[0m\u001b[0m\n",
      "\u001b[0;32m/opt/conda/lib/python3.8/socket.py\u001b[0m in \u001b[0;36mreadinto\u001b[0;34m(self, b)\u001b[0m\n\u001b[1;32m    667\u001b[0m         \u001b[0;32mwhile\u001b[0m \u001b[0;32mTrue\u001b[0m\u001b[0;34m:\u001b[0m\u001b[0;34m\u001b[0m\u001b[0;34m\u001b[0m\u001b[0m\n\u001b[1;32m    668\u001b[0m             \u001b[0;32mtry\u001b[0m\u001b[0;34m:\u001b[0m\u001b[0;34m\u001b[0m\u001b[0;34m\u001b[0m\u001b[0m\n\u001b[0;32m--> 669\u001b[0;31m                 \u001b[0;32mreturn\u001b[0m \u001b[0mself\u001b[0m\u001b[0;34m.\u001b[0m\u001b[0m_sock\u001b[0m\u001b[0;34m.\u001b[0m\u001b[0mrecv_into\u001b[0m\u001b[0;34m(\u001b[0m\u001b[0mb\u001b[0m\u001b[0;34m)\u001b[0m\u001b[0;34m\u001b[0m\u001b[0;34m\u001b[0m\u001b[0m\n\u001b[0m\u001b[1;32m    670\u001b[0m             \u001b[0;32mexcept\u001b[0m \u001b[0mtimeout\u001b[0m\u001b[0;34m:\u001b[0m\u001b[0;34m\u001b[0m\u001b[0;34m\u001b[0m\u001b[0m\n\u001b[1;32m    671\u001b[0m                 \u001b[0mself\u001b[0m\u001b[0;34m.\u001b[0m\u001b[0m_timeout_occurred\u001b[0m \u001b[0;34m=\u001b[0m \u001b[0;32mTrue\u001b[0m\u001b[0;34m\u001b[0m\u001b[0;34m\u001b[0m\u001b[0m\n",
      "\u001b[0;32m/opt/conda/lib/python3.8/ssl.py\u001b[0m in \u001b[0;36mrecv_into\u001b[0;34m(self, buffer, nbytes, flags)\u001b[0m\n\u001b[1;32m   1239\u001b[0m                   \u001b[0;34m\"non-zero flags not allowed in calls to recv_into() on %s\"\u001b[0m \u001b[0;34m%\u001b[0m\u001b[0;34m\u001b[0m\u001b[0;34m\u001b[0m\u001b[0m\n\u001b[1;32m   1240\u001b[0m                   self.__class__)\n\u001b[0;32m-> 1241\u001b[0;31m             \u001b[0;32mreturn\u001b[0m \u001b[0mself\u001b[0m\u001b[0;34m.\u001b[0m\u001b[0mread\u001b[0m\u001b[0;34m(\u001b[0m\u001b[0mnbytes\u001b[0m\u001b[0;34m,\u001b[0m \u001b[0mbuffer\u001b[0m\u001b[0;34m)\u001b[0m\u001b[0;34m\u001b[0m\u001b[0;34m\u001b[0m\u001b[0m\n\u001b[0m\u001b[1;32m   1242\u001b[0m         \u001b[0;32melse\u001b[0m\u001b[0;34m:\u001b[0m\u001b[0;34m\u001b[0m\u001b[0;34m\u001b[0m\u001b[0m\n\u001b[1;32m   1243\u001b[0m             \u001b[0;32mreturn\u001b[0m \u001b[0msuper\u001b[0m\u001b[0;34m(\u001b[0m\u001b[0;34m)\u001b[0m\u001b[0;34m.\u001b[0m\u001b[0mrecv_into\u001b[0m\u001b[0;34m(\u001b[0m\u001b[0mbuffer\u001b[0m\u001b[0;34m,\u001b[0m \u001b[0mnbytes\u001b[0m\u001b[0;34m,\u001b[0m \u001b[0mflags\u001b[0m\u001b[0;34m)\u001b[0m\u001b[0;34m\u001b[0m\u001b[0;34m\u001b[0m\u001b[0m\n",
      "\u001b[0;32m/opt/conda/lib/python3.8/ssl.py\u001b[0m in \u001b[0;36mread\u001b[0;34m(self, len, buffer)\u001b[0m\n\u001b[1;32m   1097\u001b[0m         \u001b[0;32mtry\u001b[0m\u001b[0;34m:\u001b[0m\u001b[0;34m\u001b[0m\u001b[0;34m\u001b[0m\u001b[0m\n\u001b[1;32m   1098\u001b[0m             \u001b[0;32mif\u001b[0m \u001b[0mbuffer\u001b[0m \u001b[0;32mis\u001b[0m \u001b[0;32mnot\u001b[0m \u001b[0;32mNone\u001b[0m\u001b[0;34m:\u001b[0m\u001b[0;34m\u001b[0m\u001b[0;34m\u001b[0m\u001b[0m\n\u001b[0;32m-> 1099\u001b[0;31m                 \u001b[0;32mreturn\u001b[0m \u001b[0mself\u001b[0m\u001b[0;34m.\u001b[0m\u001b[0m_sslobj\u001b[0m\u001b[0;34m.\u001b[0m\u001b[0mread\u001b[0m\u001b[0;34m(\u001b[0m\u001b[0mlen\u001b[0m\u001b[0;34m,\u001b[0m \u001b[0mbuffer\u001b[0m\u001b[0;34m)\u001b[0m\u001b[0;34m\u001b[0m\u001b[0;34m\u001b[0m\u001b[0m\n\u001b[0m\u001b[1;32m   1100\u001b[0m             \u001b[0;32melse\u001b[0m\u001b[0;34m:\u001b[0m\u001b[0;34m\u001b[0m\u001b[0;34m\u001b[0m\u001b[0m\n\u001b[1;32m   1101\u001b[0m                 \u001b[0;32mreturn\u001b[0m \u001b[0mself\u001b[0m\u001b[0;34m.\u001b[0m\u001b[0m_sslobj\u001b[0m\u001b[0;34m.\u001b[0m\u001b[0mread\u001b[0m\u001b[0;34m(\u001b[0m\u001b[0mlen\u001b[0m\u001b[0;34m)\u001b[0m\u001b[0;34m\u001b[0m\u001b[0;34m\u001b[0m\u001b[0m\n",
      "\u001b[0;31mKeyboardInterrupt\u001b[0m: "
     ]
    }
   ],
   "source": [
    "path = \"/provisioner/provision/\"+tosca_id\n",
    "payload = {}\n",
    "headers= {'accept':'text/plain'}\n",
    "\n",
    "response = requests.request(\"GET\", base_url+path, headers=headers, data = payload,verify=False, auth=(username, password))\n",
    "if response.status_code != 200:\n",
    "    raise Exeption('Somtheing was wrong with the request')\n",
    "provisioned_tosca_id = response.text"
   ]
  },
  {
   "cell_type": "code",
   "execution_count": 451,
   "metadata": {},
   "outputs": [
    {
     "name": "stdout",
     "output_type": "stream",
     "text": [
      "vm : compute_0_topology_1 is running at: 20.103.248.31\n",
      "topology_1 current_state: RUNNING\n"
     ]
    },
    {
     "data": {
      "image/png": "[encoded data removed]",
      "text/plain": [
       "<Figure size 432x288 with 1 Axes>"
      ]
     },
     "metadata": {},
     "output_type": "display_data"
    }
   ],
   "source": [
    "# print(provisioned_tosca_id)\n",
    "tosca = get_tosca(provisioned_tosca_id)\n",
    "tosca_dict = yaml.safe_load(tosca)\n",
    "graph = build_graph(tosca_dict['topology_template']['node_templates'])\n",
    "nx.draw(graph, with_labels=True)\n",
    "\n",
    "\n",
    "for node_name in tosca_dict['topology_template']['node_templates']:\n",
    "    if 'attributes' in tosca_dict['topology_template']['node_templates'][node_name] and 'public_ip' in tosca_dict['topology_template']['node_templates'][node_name]['attributes']:\n",
    "        print('vm : '+node_name +' is running at: '+tosca_dict['topology_template']['node_templates'][node_name]['attributes']['public_ip'])\n",
    "    if 'attributes' in tosca_dict['topology_template']['node_templates'][node_name] and 'current_state' in tosca_dict['topology_template']['node_templates'][node_name]['attributes']:\n",
    "        print(node_name+' current_state: '+tosca_dict['topology_template']['node_templates'][node_name]['attributes']['current_state'])\n",
    "\n",
    "        \n",
    "    \n",
    "        "
   ]
  },
  {
   "cell_type": "markdown",
   "metadata": {},
   "source": [
    "## Deploy K8s And Helm Apps"
   ]
  },
  {
   "cell_type": "code",
   "execution_count": 452,
   "metadata": {},
   "outputs": [],
   "source": [
    "path = \"/deployer/deploy/\"+provisioned_tosca_id\n",
    "payload = {}\n",
    "headers= {'accept':'text/plain'}\n",
    "\n",
    "response = requests.request(\"GET\", base_url+path, headers=headers, data = payload, verify=False, auth=(username, password))\n",
    "if response.status_code != 200:\n",
    "    raise Exeption('Somtheing was wrong with the request')\n",
    "deployed_tosca_id = response.text"
   ]
  },
  {
   "cell_type": "code",
   "execution_count": 502,
   "metadata": {},
   "outputs": [
    {
     "name": "stdout",
     "output_type": "stream",
     "text": [
      "argo:\n",
      "  url: http://20.103.248.31:32465\n",
      "grafana:\n",
      "  url: http://20.103.248.31:30747\n",
      "k8s_dashboard:\n",
      "  token: eyJhbGciOiJSUzI1NiIsImtpZCI6Imxod1dpS3lYN3lXZmIzNzZiT0FiTTdPUjBmY0dSUGZjYVNGVXdHZndKQVEifQ.eyJpc3MiOiJrdWJlcm5ldGVzL3NlcnZpY2VhY2NvdW50Iiwia3ViZXJuZXRlcy5pby9zZXJ2aWNlYWNjb3VudC9uYW1lc3BhY2UiOiJrdWJlcm5ldGVzLWRhc2hib2FyZCIsImt1YmVybmV0ZXMuaW8vc2VydmljZWFjY291bnQvc2VjcmV0Lm5hbWUiOiJrdWJlcm5ldGVzLWRhc2hib2FyZC10b2tlbi1iYng0eCIsImt1YmVybmV0ZXMuaW8vc2VydmljZWFjY291bnQvc2VydmljZS1hY2NvdW50Lm5hbWUiOiJrdWJlcm5ldGVzLWRhc2hib2FyZCIsImt1YmVybmV0ZXMuaW8vc2VydmljZWFjY291bnQvc2VydmljZS1hY2NvdW50LnVpZCI6IjNkOGUxMjBkLTY4OGQtNDYzNy04YTUwLWU3MTg3NWQxMWY5OCIsInN1YiI6InN5c3RlbTpzZXJ2aWNlYWNjb3VudDprdWJlcm5ldGVzLWRhc2hib2FyZDprdWJlcm5ldGVzLWRhc2hib2FyZCJ9.USWW-HBAJLSf1AouiuZo912keQtf_-Mv5C7L9ODFD_KnMGJjEOt8Nwixd2XK8ZSbqotsvAtxe7UGR56F3V1le79__VSDbMlkvMIn8E9XV0JHKTQjk1Klrc74ghZ3at3t1E5mBHDbEzNOWyX-UNHOg047pziTX1bvG27Emi2EGZqqnYlmwz55neGUFzVkMpWCDBZi4T2HjNrVFSWcFr52wBNN-KuLUYCab36B_DEkU_JNv9AxqAYx0mQvCO3HrAvBOsONi7R00gKIHl-2Rcjq_RKCV7oNrBsEEMEMzBKjO1-2guDDaBVzACFsRHonskRiGuSucxrNmWUa3quuEb_8Ew\n",
      "  url: https://20.103.248.31:32693\n",
      "\n"
     ]
    }
   ],
   "source": [
    "import urllib.request\n",
    "import ssl\n",
    "import urllib.request\n",
    "\n",
    "tosca = get_tosca(deployed_tosca_id)\n",
    "tosca_dict = yaml.safe_load(tosca)\n",
    "\n",
    "\n",
    "ctx = ssl.create_default_context()\n",
    "ctx.check_hostname = False\n",
    "ctx.verify_mode = ssl.CERT_NONE\n",
    "\n",
    "\n",
    "services = {}\n",
    "\n",
    "for node_name in tosca_dict['topology_template']['node_templates']:\n",
    "    if tosca_dict['topology_template']['node_templates'][node_name]['type'] == 'tosca.nodes.QC.docker.Orchestrator.Kubernetes':\n",
    "        for token in tosca_dict['topology_template']['node_templates'][node_name]['attributes']['tokens']:\n",
    "            if token['token_type'] == 'k8s_dashboard_token':\n",
    "                dashboard_token = token['token']\n",
    "        for service_url in tosca_dict['topology_template']['node_templates'][node_name]['attributes']['service_urls']:\n",
    "                fp = urllib.request.urlopen(service_url, context=ctx)\n",
    "                contents_bytes = fp.read()\n",
    "                contents = contents_bytes.decode(\"utf8\")\n",
    "                fp.close()\n",
    "                if '<title>Grafana</title>' in contents:\n",
    "                    services['grafana'] = {'url':service_url}\n",
    "                elif '<title>Argo</title>' in contents:\n",
    "                    services['argo_dashboard'] = {'url':service_url}\n",
    "                else:\n",
    "                    services['k8s_dashboard'] = {'url':service_url,'token':dashboard_token}\n",
    "                    \n",
    "print(yaml.dump(services))\n",
    "        "
   ]
  },
  {
   "cell_type": "code",
   "execution_count": null,
   "metadata": {},
   "outputs": [],
   "source": []
  },
  {
   "cell_type": "markdown",
   "metadata": {},
   "source": [
    "## Delete Topology"
   ]
  },
  {
   "cell_type": "code",
   "execution_count": null,
   "metadata": {},
   "outputs": [],
   "source": [
    "path = \"/tosca_template/\"+provisioned_tosca_id\n",
    "payload = {}\n",
    "headers= {'accept':'text/plain'}\n",
    "\n",
    "response = requests.request(\"DELETE\", base_url+path, headers=headers, data = payload, verify=False, auth=(username, password))\n",
    "if response.status_code != 200:\n",
    "    raise Exeption('Somtheing was wrong with the request')\n",
    "deployed_tosca_id = response.text"
   ]
  },
  {
   "cell_type": "code",
   "execution_count": null,
   "metadata": {},
   "outputs": [],
   "source": []
  }
 ],
 "metadata": {
  "kernelspec": {
   "display_name": "Python 3",
   "language": "python",
   "name": "python3"
  },
  "language_info": {
   "codemirror_mode": {
    "name": "ipython",
    "version": 3
   },
   "file_extension": ".py",
   "mimetype": "text/x-python",
   "name": "python",
   "nbconvert_exporter": "python",
   "pygments_lexer": "ipython3",
   "version": "3.8.6"
  }
 },
 "nbformat": 4,
 "nbformat_minor": 4
}
